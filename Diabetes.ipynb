{
  "nbformat": 4,
  "nbformat_minor": 0,
  "metadata": {
    "colab": {
      "name": "Diabetes.ipynb",
      "provenance": [],
      "collapsed_sections": []
    },
    "kernelspec": {
      "name": "python3",
      "display_name": "Python 3"
    },
    "language_info": {
      "name": "python"
    }
  },
  "cells": [
    {
      "cell_type": "code",
      "execution_count": 152,
      "metadata": {
        "id": "fav7YSLSdtAM"
      },
      "outputs": [],
      "source": [
        "import numpy as np\n",
        "import pandas as pd\n",
        "import matplotlib.pyplot as plt\n",
        "import seaborn as sns"
      ]
    },
    {
      "cell_type": "code",
      "source": [
        "from sklearn.model_selection import train_test_split\n",
        "from sklearn.ensemble import RandomForestClassifier\n",
        "from sklearn.metrics import accuracy_score,classification_report\n",
        "from sklearn.feature_selection import VarianceThreshold"
      ],
      "metadata": {
        "id": "P5y2fxAXdw7b"
      },
      "execution_count": 153,
      "outputs": []
    },
    {
      "cell_type": "code",
      "source": [
        "data = pd.read_csv('dataset.csv')\n",
        "data"
      ],
      "metadata": {
        "colab": {
          "base_uri": "https://localhost:8080/",
          "height": 461
        },
        "id": "zoGjL5qOdxA9",
        "outputId": "f9cd4892-2d15-4d4a-90e1-b0223f16ef2c"
      },
      "execution_count": 154,
      "outputs": [
        {
          "output_type": "execute_result",
          "data": {
            "text/html": [
              "<div>\n",
              "<style scoped>\n",
              "    .dataframe tbody tr th:only-of-type {\n",
              "        vertical-align: middle;\n",
              "    }\n",
              "\n",
              "    .dataframe tbody tr th {\n",
              "        vertical-align: top;\n",
              "    }\n",
              "\n",
              "    .dataframe thead th {\n",
              "        text-align: right;\n",
              "    }\n",
              "</style>\n",
              "<table border=\"1\" class=\"dataframe\">\n",
              "  <thead>\n",
              "    <tr style=\"text-align: right;\">\n",
              "      <th></th>\n",
              "      <th>Unnamed: 0</th>\n",
              "      <th>Pregnancies</th>\n",
              "      <th>Glucose</th>\n",
              "      <th>BloodPressure</th>\n",
              "      <th>SkinThickness</th>\n",
              "      <th>Insulin</th>\n",
              "      <th>BMI</th>\n",
              "      <th>DiabetesPedigreeFunction</th>\n",
              "      <th>Age</th>\n",
              "      <th>Outcome</th>\n",
              "      <th>HairColor</th>\n",
              "      <th>Adult</th>\n",
              "      <th>Country</th>\n",
              "      <th>Age_1</th>\n",
              "    </tr>\n",
              "  </thead>\n",
              "  <tbody>\n",
              "    <tr>\n",
              "      <th>0</th>\n",
              "      <td>0</td>\n",
              "      <td>6</td>\n",
              "      <td>148</td>\n",
              "      <td>72</td>\n",
              "      <td>35</td>\n",
              "      <td>0</td>\n",
              "      <td>33.6</td>\n",
              "      <td>0.627</td>\n",
              "      <td>50</td>\n",
              "      <td>1</td>\n",
              "      <td>B</td>\n",
              "      <td>1</td>\n",
              "      <td>IND</td>\n",
              "      <td>50</td>\n",
              "    </tr>\n",
              "    <tr>\n",
              "      <th>1</th>\n",
              "      <td>1</td>\n",
              "      <td>1</td>\n",
              "      <td>85</td>\n",
              "      <td>66</td>\n",
              "      <td>29</td>\n",
              "      <td>0</td>\n",
              "      <td>26.6</td>\n",
              "      <td>0.351</td>\n",
              "      <td>31</td>\n",
              "      <td>0</td>\n",
              "      <td>B</td>\n",
              "      <td>1</td>\n",
              "      <td>IND</td>\n",
              "      <td>31</td>\n",
              "    </tr>\n",
              "    <tr>\n",
              "      <th>2</th>\n",
              "      <td>2</td>\n",
              "      <td>8</td>\n",
              "      <td>183</td>\n",
              "      <td>64</td>\n",
              "      <td>0</td>\n",
              "      <td>0</td>\n",
              "      <td>23.3</td>\n",
              "      <td>0.672</td>\n",
              "      <td>32</td>\n",
              "      <td>1</td>\n",
              "      <td>B</td>\n",
              "      <td>1</td>\n",
              "      <td>IND</td>\n",
              "      <td>32</td>\n",
              "    </tr>\n",
              "    <tr>\n",
              "      <th>3</th>\n",
              "      <td>3</td>\n",
              "      <td>1</td>\n",
              "      <td>89</td>\n",
              "      <td>66</td>\n",
              "      <td>23</td>\n",
              "      <td>94</td>\n",
              "      <td>28.1</td>\n",
              "      <td>0.167</td>\n",
              "      <td>21</td>\n",
              "      <td>0</td>\n",
              "      <td>B</td>\n",
              "      <td>1</td>\n",
              "      <td>IND</td>\n",
              "      <td>21</td>\n",
              "    </tr>\n",
              "    <tr>\n",
              "      <th>4</th>\n",
              "      <td>4</td>\n",
              "      <td>0</td>\n",
              "      <td>137</td>\n",
              "      <td>40</td>\n",
              "      <td>35</td>\n",
              "      <td>168</td>\n",
              "      <td>43.1</td>\n",
              "      <td>2.288</td>\n",
              "      <td>33</td>\n",
              "      <td>1</td>\n",
              "      <td>B</td>\n",
              "      <td>1</td>\n",
              "      <td>IND</td>\n",
              "      <td>33</td>\n",
              "    </tr>\n",
              "    <tr>\n",
              "      <th>...</th>\n",
              "      <td>...</td>\n",
              "      <td>...</td>\n",
              "      <td>...</td>\n",
              "      <td>...</td>\n",
              "      <td>...</td>\n",
              "      <td>...</td>\n",
              "      <td>...</td>\n",
              "      <td>...</td>\n",
              "      <td>...</td>\n",
              "      <td>...</td>\n",
              "      <td>...</td>\n",
              "      <td>...</td>\n",
              "      <td>...</td>\n",
              "      <td>...</td>\n",
              "    </tr>\n",
              "    <tr>\n",
              "      <th>763</th>\n",
              "      <td>763</td>\n",
              "      <td>10</td>\n",
              "      <td>101</td>\n",
              "      <td>76</td>\n",
              "      <td>48</td>\n",
              "      <td>180</td>\n",
              "      <td>32.9</td>\n",
              "      <td>0.171</td>\n",
              "      <td>63</td>\n",
              "      <td>0</td>\n",
              "      <td>W</td>\n",
              "      <td>1</td>\n",
              "      <td>IND</td>\n",
              "      <td>63</td>\n",
              "    </tr>\n",
              "    <tr>\n",
              "      <th>764</th>\n",
              "      <td>764</td>\n",
              "      <td>2</td>\n",
              "      <td>122</td>\n",
              "      <td>70</td>\n",
              "      <td>27</td>\n",
              "      <td>0</td>\n",
              "      <td>36.8</td>\n",
              "      <td>0.340</td>\n",
              "      <td>27</td>\n",
              "      <td>0</td>\n",
              "      <td>W</td>\n",
              "      <td>1</td>\n",
              "      <td>IND</td>\n",
              "      <td>27</td>\n",
              "    </tr>\n",
              "    <tr>\n",
              "      <th>765</th>\n",
              "      <td>765</td>\n",
              "      <td>5</td>\n",
              "      <td>121</td>\n",
              "      <td>72</td>\n",
              "      <td>23</td>\n",
              "      <td>112</td>\n",
              "      <td>26.2</td>\n",
              "      <td>0.245</td>\n",
              "      <td>30</td>\n",
              "      <td>0</td>\n",
              "      <td>W</td>\n",
              "      <td>1</td>\n",
              "      <td>IND</td>\n",
              "      <td>30</td>\n",
              "    </tr>\n",
              "    <tr>\n",
              "      <th>766</th>\n",
              "      <td>766</td>\n",
              "      <td>1</td>\n",
              "      <td>126</td>\n",
              "      <td>60</td>\n",
              "      <td>0</td>\n",
              "      <td>0</td>\n",
              "      <td>30.1</td>\n",
              "      <td>0.349</td>\n",
              "      <td>47</td>\n",
              "      <td>1</td>\n",
              "      <td>W</td>\n",
              "      <td>1</td>\n",
              "      <td>IND</td>\n",
              "      <td>47</td>\n",
              "    </tr>\n",
              "    <tr>\n",
              "      <th>767</th>\n",
              "      <td>767</td>\n",
              "      <td>1</td>\n",
              "      <td>93</td>\n",
              "      <td>70</td>\n",
              "      <td>31</td>\n",
              "      <td>0</td>\n",
              "      <td>30.4</td>\n",
              "      <td>0.315</td>\n",
              "      <td>23</td>\n",
              "      <td>0</td>\n",
              "      <td>W</td>\n",
              "      <td>1</td>\n",
              "      <td>IND</td>\n",
              "      <td>23</td>\n",
              "    </tr>\n",
              "  </tbody>\n",
              "</table>\n",
              "<p>768 rows × 14 columns</p>\n",
              "</div>"
            ],
            "text/plain": [
              "     Unnamed: 0  Pregnancies  Glucose  ...  Adult  Country  Age_1\n",
              "0             0            6      148  ...      1      IND     50\n",
              "1             1            1       85  ...      1      IND     31\n",
              "2             2            8      183  ...      1      IND     32\n",
              "3             3            1       89  ...      1      IND     21\n",
              "4             4            0      137  ...      1      IND     33\n",
              "..          ...          ...      ...  ...    ...      ...    ...\n",
              "763         763           10      101  ...      1      IND     63\n",
              "764         764            2      122  ...      1      IND     27\n",
              "765         765            5      121  ...      1      IND     30\n",
              "766         766            1      126  ...      1      IND     47\n",
              "767         767            1       93  ...      1      IND     23\n",
              "\n",
              "[768 rows x 14 columns]"
            ]
          },
          "metadata": {},
          "execution_count": 154
        }
      ]
    },
    {
      "cell_type": "code",
      "source": [
        "data.shape,data.columns"
      ],
      "metadata": {
        "colab": {
          "base_uri": "https://localhost:8080/"
        },
        "id": "KSM4trVOdxE5",
        "outputId": "48e7e508-045a-482b-af46-5ccdaad6b6c2"
      },
      "execution_count": 155,
      "outputs": [
        {
          "output_type": "execute_result",
          "data": {
            "text/plain": [
              "((768, 14), Index(['Unnamed: 0', 'Pregnancies', 'Glucose', 'BloodPressure',\n",
              "        'SkinThickness', 'Insulin', 'BMI', 'DiabetesPedigreeFunction', 'Age',\n",
              "        'Outcome', 'HairColor', 'Adult', 'Country', 'Age_1'],\n",
              "       dtype='object'))"
            ]
          },
          "metadata": {},
          "execution_count": 155
        }
      ]
    },
    {
      "cell_type": "code",
      "source": [
        "data.drop('Unnamed: 0',axis = 1, inplace = True)\n",
        "data.head()"
      ],
      "metadata": {
        "colab": {
          "base_uri": "https://localhost:8080/",
          "height": 226
        },
        "id": "hJknwmoadxIy",
        "outputId": "33acdb76-a2df-4b7b-857b-047fb99aeb1f"
      },
      "execution_count": 156,
      "outputs": [
        {
          "output_type": "execute_result",
          "data": {
            "text/html": [
              "<div>\n",
              "<style scoped>\n",
              "    .dataframe tbody tr th:only-of-type {\n",
              "        vertical-align: middle;\n",
              "    }\n",
              "\n",
              "    .dataframe tbody tr th {\n",
              "        vertical-align: top;\n",
              "    }\n",
              "\n",
              "    .dataframe thead th {\n",
              "        text-align: right;\n",
              "    }\n",
              "</style>\n",
              "<table border=\"1\" class=\"dataframe\">\n",
              "  <thead>\n",
              "    <tr style=\"text-align: right;\">\n",
              "      <th></th>\n",
              "      <th>Pregnancies</th>\n",
              "      <th>Glucose</th>\n",
              "      <th>BloodPressure</th>\n",
              "      <th>SkinThickness</th>\n",
              "      <th>Insulin</th>\n",
              "      <th>BMI</th>\n",
              "      <th>DiabetesPedigreeFunction</th>\n",
              "      <th>Age</th>\n",
              "      <th>Outcome</th>\n",
              "      <th>HairColor</th>\n",
              "      <th>Adult</th>\n",
              "      <th>Country</th>\n",
              "      <th>Age_1</th>\n",
              "    </tr>\n",
              "  </thead>\n",
              "  <tbody>\n",
              "    <tr>\n",
              "      <th>0</th>\n",
              "      <td>6</td>\n",
              "      <td>148</td>\n",
              "      <td>72</td>\n",
              "      <td>35</td>\n",
              "      <td>0</td>\n",
              "      <td>33.6</td>\n",
              "      <td>0.627</td>\n",
              "      <td>50</td>\n",
              "      <td>1</td>\n",
              "      <td>B</td>\n",
              "      <td>1</td>\n",
              "      <td>IND</td>\n",
              "      <td>50</td>\n",
              "    </tr>\n",
              "    <tr>\n",
              "      <th>1</th>\n",
              "      <td>1</td>\n",
              "      <td>85</td>\n",
              "      <td>66</td>\n",
              "      <td>29</td>\n",
              "      <td>0</td>\n",
              "      <td>26.6</td>\n",
              "      <td>0.351</td>\n",
              "      <td>31</td>\n",
              "      <td>0</td>\n",
              "      <td>B</td>\n",
              "      <td>1</td>\n",
              "      <td>IND</td>\n",
              "      <td>31</td>\n",
              "    </tr>\n",
              "    <tr>\n",
              "      <th>2</th>\n",
              "      <td>8</td>\n",
              "      <td>183</td>\n",
              "      <td>64</td>\n",
              "      <td>0</td>\n",
              "      <td>0</td>\n",
              "      <td>23.3</td>\n",
              "      <td>0.672</td>\n",
              "      <td>32</td>\n",
              "      <td>1</td>\n",
              "      <td>B</td>\n",
              "      <td>1</td>\n",
              "      <td>IND</td>\n",
              "      <td>32</td>\n",
              "    </tr>\n",
              "    <tr>\n",
              "      <th>3</th>\n",
              "      <td>1</td>\n",
              "      <td>89</td>\n",
              "      <td>66</td>\n",
              "      <td>23</td>\n",
              "      <td>94</td>\n",
              "      <td>28.1</td>\n",
              "      <td>0.167</td>\n",
              "      <td>21</td>\n",
              "      <td>0</td>\n",
              "      <td>B</td>\n",
              "      <td>1</td>\n",
              "      <td>IND</td>\n",
              "      <td>21</td>\n",
              "    </tr>\n",
              "    <tr>\n",
              "      <th>4</th>\n",
              "      <td>0</td>\n",
              "      <td>137</td>\n",
              "      <td>40</td>\n",
              "      <td>35</td>\n",
              "      <td>168</td>\n",
              "      <td>43.1</td>\n",
              "      <td>2.288</td>\n",
              "      <td>33</td>\n",
              "      <td>1</td>\n",
              "      <td>B</td>\n",
              "      <td>1</td>\n",
              "      <td>IND</td>\n",
              "      <td>33</td>\n",
              "    </tr>\n",
              "  </tbody>\n",
              "</table>\n",
              "</div>"
            ],
            "text/plain": [
              "   Pregnancies  Glucose  BloodPressure  ...  Adult  Country  Age_1\n",
              "0            6      148             72  ...      1      IND     50\n",
              "1            1       85             66  ...      1      IND     31\n",
              "2            8      183             64  ...      1      IND     32\n",
              "3            1       89             66  ...      1      IND     21\n",
              "4            0      137             40  ...      1      IND     33\n",
              "\n",
              "[5 rows x 13 columns]"
            ]
          },
          "metadata": {},
          "execution_count": 156
        }
      ]
    },
    {
      "cell_type": "markdown",
      "source": [
        "### Label encoding"
      ],
      "metadata": {
        "id": "AeOYrzvleMmr"
      }
    },
    {
      "cell_type": "code",
      "source": [
        "from sklearn import preprocessing\n",
        "lbl = preprocessing.LabelEncoder()\n",
        "data['HairColor'] = lbl.fit_transform(data['HairColor'])\n",
        "data['Country'] = lbl.fit_transform(data['Country'])\n",
        "\n",
        "data.head()"
      ],
      "metadata": {
        "colab": {
          "base_uri": "https://localhost:8080/",
          "height": 226
        },
        "id": "jOz0HjkJdxMs",
        "outputId": "10a931d4-e9f1-4f1c-f730-dd543a0f57ad"
      },
      "execution_count": 157,
      "outputs": [
        {
          "output_type": "execute_result",
          "data": {
            "text/html": [
              "<div>\n",
              "<style scoped>\n",
              "    .dataframe tbody tr th:only-of-type {\n",
              "        vertical-align: middle;\n",
              "    }\n",
              "\n",
              "    .dataframe tbody tr th {\n",
              "        vertical-align: top;\n",
              "    }\n",
              "\n",
              "    .dataframe thead th {\n",
              "        text-align: right;\n",
              "    }\n",
              "</style>\n",
              "<table border=\"1\" class=\"dataframe\">\n",
              "  <thead>\n",
              "    <tr style=\"text-align: right;\">\n",
              "      <th></th>\n",
              "      <th>Pregnancies</th>\n",
              "      <th>Glucose</th>\n",
              "      <th>BloodPressure</th>\n",
              "      <th>SkinThickness</th>\n",
              "      <th>Insulin</th>\n",
              "      <th>BMI</th>\n",
              "      <th>DiabetesPedigreeFunction</th>\n",
              "      <th>Age</th>\n",
              "      <th>Outcome</th>\n",
              "      <th>HairColor</th>\n",
              "      <th>Adult</th>\n",
              "      <th>Country</th>\n",
              "      <th>Age_1</th>\n",
              "    </tr>\n",
              "  </thead>\n",
              "  <tbody>\n",
              "    <tr>\n",
              "      <th>0</th>\n",
              "      <td>6</td>\n",
              "      <td>148</td>\n",
              "      <td>72</td>\n",
              "      <td>35</td>\n",
              "      <td>0</td>\n",
              "      <td>33.6</td>\n",
              "      <td>0.627</td>\n",
              "      <td>50</td>\n",
              "      <td>1</td>\n",
              "      <td>0</td>\n",
              "      <td>1</td>\n",
              "      <td>0</td>\n",
              "      <td>50</td>\n",
              "    </tr>\n",
              "    <tr>\n",
              "      <th>1</th>\n",
              "      <td>1</td>\n",
              "      <td>85</td>\n",
              "      <td>66</td>\n",
              "      <td>29</td>\n",
              "      <td>0</td>\n",
              "      <td>26.6</td>\n",
              "      <td>0.351</td>\n",
              "      <td>31</td>\n",
              "      <td>0</td>\n",
              "      <td>0</td>\n",
              "      <td>1</td>\n",
              "      <td>0</td>\n",
              "      <td>31</td>\n",
              "    </tr>\n",
              "    <tr>\n",
              "      <th>2</th>\n",
              "      <td>8</td>\n",
              "      <td>183</td>\n",
              "      <td>64</td>\n",
              "      <td>0</td>\n",
              "      <td>0</td>\n",
              "      <td>23.3</td>\n",
              "      <td>0.672</td>\n",
              "      <td>32</td>\n",
              "      <td>1</td>\n",
              "      <td>0</td>\n",
              "      <td>1</td>\n",
              "      <td>0</td>\n",
              "      <td>32</td>\n",
              "    </tr>\n",
              "    <tr>\n",
              "      <th>3</th>\n",
              "      <td>1</td>\n",
              "      <td>89</td>\n",
              "      <td>66</td>\n",
              "      <td>23</td>\n",
              "      <td>94</td>\n",
              "      <td>28.1</td>\n",
              "      <td>0.167</td>\n",
              "      <td>21</td>\n",
              "      <td>0</td>\n",
              "      <td>0</td>\n",
              "      <td>1</td>\n",
              "      <td>0</td>\n",
              "      <td>21</td>\n",
              "    </tr>\n",
              "    <tr>\n",
              "      <th>4</th>\n",
              "      <td>0</td>\n",
              "      <td>137</td>\n",
              "      <td>40</td>\n",
              "      <td>35</td>\n",
              "      <td>168</td>\n",
              "      <td>43.1</td>\n",
              "      <td>2.288</td>\n",
              "      <td>33</td>\n",
              "      <td>1</td>\n",
              "      <td>0</td>\n",
              "      <td>1</td>\n",
              "      <td>0</td>\n",
              "      <td>33</td>\n",
              "    </tr>\n",
              "  </tbody>\n",
              "</table>\n",
              "</div>"
            ],
            "text/plain": [
              "   Pregnancies  Glucose  BloodPressure  ...  Adult  Country  Age_1\n",
              "0            6      148             72  ...      1        0     50\n",
              "1            1       85             66  ...      1        0     31\n",
              "2            8      183             64  ...      1        0     32\n",
              "3            1       89             66  ...      1        0     21\n",
              "4            0      137             40  ...      1        0     33\n",
              "\n",
              "[5 rows x 13 columns]"
            ]
          },
          "metadata": {},
          "execution_count": 157
        }
      ]
    },
    {
      "cell_type": "code",
      "source": [
        "x = data.drop('Outcome',axis = 1)\n",
        "y = data['Outcome']\n",
        "\n",
        "x,y"
      ],
      "metadata": {
        "colab": {
          "base_uri": "https://localhost:8080/"
        },
        "id": "dL2hMH97dxQp",
        "outputId": "5cac1a72-e130-44fa-ea11-c6392dced666"
      },
      "execution_count": 158,
      "outputs": [
        {
          "output_type": "execute_result",
          "data": {
            "text/plain": [
              "(     Pregnancies  Glucose  BloodPressure  ...  Adult  Country  Age_1\n",
              " 0              6      148             72  ...      1        0     50\n",
              " 1              1       85             66  ...      1        0     31\n",
              " 2              8      183             64  ...      1        0     32\n",
              " 3              1       89             66  ...      1        0     21\n",
              " 4              0      137             40  ...      1        0     33\n",
              " ..           ...      ...            ...  ...    ...      ...    ...\n",
              " 763           10      101             76  ...      1        0     63\n",
              " 764            2      122             70  ...      1        0     27\n",
              " 765            5      121             72  ...      1        0     30\n",
              " 766            1      126             60  ...      1        0     47\n",
              " 767            1       93             70  ...      1        0     23\n",
              " \n",
              " [768 rows x 12 columns], 0      1\n",
              " 1      0\n",
              " 2      1\n",
              " 3      0\n",
              " 4      1\n",
              "       ..\n",
              " 763    0\n",
              " 764    0\n",
              " 765    0\n",
              " 766    1\n",
              " 767    0\n",
              " Name: Outcome, Length: 768, dtype: int64)"
            ]
          },
          "metadata": {},
          "execution_count": 158
        }
      ]
    },
    {
      "cell_type": "markdown",
      "source": [
        "### For better accuracy using upsampling from SMOTEENN"
      ],
      "metadata": {
        "id": "ihWeUv3dnkB6"
      }
    },
    {
      "cell_type": "code",
      "source": [
        "from imblearn.combine import SMOTEENN\n",
        "sm=SMOTEENN()\n",
        "x_upsampled,y_upsampled=sm.fit_resample(x,y)\n",
        "x_train,x_test,y_train,y_test = train_test_split(x_upsampled,y_upsampled,test_size=0.2)\n",
        "x_train.shape,x_test.shape,y_train.shape,y_test.shape"
      ],
      "metadata": {
        "colab": {
          "base_uri": "https://localhost:8080/"
        },
        "id": "D19ApjjHfvAs",
        "outputId": "3dde5538-8371-4e57-9963-121fdefb3096"
      },
      "execution_count": 159,
      "outputs": [
        {
          "output_type": "execute_result",
          "data": {
            "text/plain": [
              "((416, 12), (104, 12), (416,), (104,))"
            ]
          },
          "metadata": {},
          "execution_count": 159
        }
      ]
    },
    {
      "cell_type": "markdown",
      "source": [
        "### Constant Feautres Removal"
      ],
      "metadata": {
        "id": "dJNJeY6sep3X"
      }
    },
    {
      "cell_type": "code",
      "source": [
        "constant_filter = VarianceThreshold(threshold=0)\n",
        "constant_filter.fit(x_train)"
      ],
      "metadata": {
        "colab": {
          "base_uri": "https://localhost:8080/"
        },
        "id": "a8jL0cAReTe4",
        "outputId": "7aa2b8f8-693e-45ee-bc9d-d3bfa87d92bb"
      },
      "execution_count": 160,
      "outputs": [
        {
          "output_type": "execute_result",
          "data": {
            "text/plain": [
              "VarianceThreshold(threshold=0)"
            ]
          },
          "metadata": {},
          "execution_count": 160
        }
      ]
    },
    {
      "cell_type": "code",
      "source": [
        "constant_filter.get_support().sum()"
      ],
      "metadata": {
        "colab": {
          "base_uri": "https://localhost:8080/"
        },
        "id": "wpY7kcwDeTjY",
        "outputId": "29057285-7c14-4a0d-cea6-aad12b57f410"
      },
      "execution_count": 161,
      "outputs": [
        {
          "output_type": "execute_result",
          "data": {
            "text/plain": [
              "10"
            ]
          },
          "metadata": {},
          "execution_count": 161
        }
      ]
    },
    {
      "cell_type": "code",
      "source": [
        "constant_list = [not temp for temp in constant_filter.get_support()]\n",
        "constant_list"
      ],
      "metadata": {
        "colab": {
          "base_uri": "https://localhost:8080/"
        },
        "id": "SfCGwhtReTnQ",
        "outputId": "08de8af8-2a03-439f-f7d9-b779f0d70a4a"
      },
      "execution_count": 162,
      "outputs": [
        {
          "output_type": "execute_result",
          "data": {
            "text/plain": [
              "[False,\n",
              " False,\n",
              " False,\n",
              " False,\n",
              " False,\n",
              " False,\n",
              " False,\n",
              " False,\n",
              " False,\n",
              " True,\n",
              " True,\n",
              " False]"
            ]
          },
          "metadata": {},
          "execution_count": 162
        }
      ]
    },
    {
      "cell_type": "code",
      "source": [
        "x_train = constant_filter.transform(x_train)\n",
        "x_test = constant_filter.transform(x_test)\n",
        "x_train.shape,x_test.shape"
      ],
      "metadata": {
        "colab": {
          "base_uri": "https://localhost:8080/"
        },
        "id": "nyY_DxioeTq5",
        "outputId": "4f879826-e0e1-4fee-f63b-916a87d2b86d"
      },
      "execution_count": 163,
      "outputs": [
        {
          "output_type": "execute_result",
          "data": {
            "text/plain": [
              "((416, 10), (104, 10))"
            ]
          },
          "metadata": {},
          "execution_count": 163
        }
      ]
    },
    {
      "cell_type": "markdown",
      "source": [
        "### Quasi constant feature removal"
      ],
      "metadata": {
        "id": "UDUqobIFfJJC"
      }
    },
    {
      "cell_type": "code",
      "source": [
        "quasi_constant_filter = VarianceThreshold(threshold=0.1)\n",
        "quasi_constant_filter.fit(x_train)"
      ],
      "metadata": {
        "colab": {
          "base_uri": "https://localhost:8080/"
        },
        "id": "uXINcQLBfBqM",
        "outputId": "6517e4fb-a7dd-4bbf-f60e-8b4c8693075e"
      },
      "execution_count": 164,
      "outputs": [
        {
          "output_type": "execute_result",
          "data": {
            "text/plain": [
              "VarianceThreshold(threshold=0.1)"
            ]
          },
          "metadata": {},
          "execution_count": 164
        }
      ]
    },
    {
      "cell_type": "code",
      "source": [
        "quasi_constant_filter.get_support().sum()"
      ],
      "metadata": {
        "colab": {
          "base_uri": "https://localhost:8080/"
        },
        "id": "fhjCB0WbfBuh",
        "outputId": "c916fd1a-e98b-4717-d04e-bc870a1b8172"
      },
      "execution_count": 165,
      "outputs": [
        {
          "output_type": "execute_result",
          "data": {
            "text/plain": [
              "8"
            ]
          },
          "metadata": {},
          "execution_count": 165
        }
      ]
    },
    {
      "cell_type": "code",
      "source": [
        "quasi_constant_list = [not temp for temp in quasi_constant_filter.get_support()]\n",
        "quasi_constant_list "
      ],
      "metadata": {
        "colab": {
          "base_uri": "https://localhost:8080/"
        },
        "id": "PqZOULiMfBy-",
        "outputId": "741b7fcb-14e4-43c9-c817-2f6e83a6e2e2"
      },
      "execution_count": 166,
      "outputs": [
        {
          "output_type": "execute_result",
          "data": {
            "text/plain": [
              "[False, False, False, False, False, False, True, False, True, False]"
            ]
          },
          "metadata": {},
          "execution_count": 166
        }
      ]
    },
    {
      "cell_type": "code",
      "source": [
        "x_train = quasi_constant_filter.transform(x_train)\n",
        "x_test = quasi_constant_filter.transform(x_test)\n",
        "x_train.shape,x_test.shape"
      ],
      "metadata": {
        "colab": {
          "base_uri": "https://localhost:8080/"
        },
        "id": "ZCPZucAHfB2u",
        "outputId": "067c83ac-a55d-414a-9072-4eeeefaab848"
      },
      "execution_count": 167,
      "outputs": [
        {
          "output_type": "execute_result",
          "data": {
            "text/plain": [
              "((416, 8), (104, 8))"
            ]
          },
          "metadata": {},
          "execution_count": 167
        }
      ]
    },
    {
      "cell_type": "markdown",
      "source": [
        "### Remove Duplicate Features\n"
      ],
      "metadata": {
        "id": "jjgJV8stgrqa"
      }
    },
    {
      "cell_type": "code",
      "source": [
        "x_train_T = x_train.T\n",
        "x_test_T = x_test.T\n",
        "\n",
        "x_train_T.shape,x_test_T.shape"
      ],
      "metadata": {
        "colab": {
          "base_uri": "https://localhost:8080/"
        },
        "id": "ysD9TtVYdxUy",
        "outputId": "8be715a4-d911-4948-93db-ecb1dc510f3a"
      },
      "execution_count": 168,
      "outputs": [
        {
          "output_type": "execute_result",
          "data": {
            "text/plain": [
              "((8, 416), (8, 104))"
            ]
          },
          "metadata": {},
          "execution_count": 168
        }
      ]
    },
    {
      "cell_type": "code",
      "source": [
        "x_train_T = pd.DataFrame(x_train_T)\n",
        "x_test_T = pd.DataFrame(x_test_T)"
      ],
      "metadata": {
        "id": "ruzzApgRgtJW"
      },
      "execution_count": 169,
      "outputs": []
    },
    {
      "cell_type": "code",
      "source": [
        "x_train_T.duplicated().sum()"
      ],
      "metadata": {
        "colab": {
          "base_uri": "https://localhost:8080/"
        },
        "id": "lCFqJtYfgtOE",
        "outputId": "5ccccf05-9950-43d2-8767-9f50c713f543"
      },
      "execution_count": 170,
      "outputs": [
        {
          "output_type": "execute_result",
          "data": {
            "text/plain": [
              "1"
            ]
          },
          "metadata": {},
          "execution_count": 170
        }
      ]
    },
    {
      "cell_type": "code",
      "source": [
        "duplicated_features = x_train_T.duplicated()\n",
        "duplicated_features"
      ],
      "metadata": {
        "colab": {
          "base_uri": "https://localhost:8080/"
        },
        "id": "Ez1Kx2j-gtR2",
        "outputId": "e9d4d9b3-2586-4368-e72a-5797f8170d70"
      },
      "execution_count": 171,
      "outputs": [
        {
          "output_type": "execute_result",
          "data": {
            "text/plain": [
              "0    False\n",
              "1    False\n",
              "2    False\n",
              "3    False\n",
              "4    False\n",
              "5    False\n",
              "6    False\n",
              "7     True\n",
              "dtype: bool"
            ]
          },
          "metadata": {},
          "execution_count": 171
        }
      ]
    },
    {
      "cell_type": "code",
      "source": [
        "features_to_keep = [not data for data in duplicated_features]\n",
        "features_to_keep"
      ],
      "metadata": {
        "colab": {
          "base_uri": "https://localhost:8080/"
        },
        "id": "x8v74PExgtVU",
        "outputId": "0e1b4d70-8881-4650-e53a-389a6294958c"
      },
      "execution_count": 172,
      "outputs": [
        {
          "output_type": "execute_result",
          "data": {
            "text/plain": [
              "[True, True, True, True, True, True, True, False]"
            ]
          },
          "metadata": {},
          "execution_count": 172
        }
      ]
    },
    {
      "cell_type": "code",
      "source": [
        "x_train_unique = x_train_T[features_to_keep].T\n",
        "x_test_unique = x_test_T[features_to_keep].T"
      ],
      "metadata": {
        "id": "9NQJO2eEg8tM"
      },
      "execution_count": 173,
      "outputs": []
    },
    {
      "cell_type": "code",
      "source": [
        "x_train_unique.shape,x_test_unique.shape"
      ],
      "metadata": {
        "colab": {
          "base_uri": "https://localhost:8080/"
        },
        "id": "zKZ6qz5rg8zY",
        "outputId": "3bddf45a-c6e2-4861-ba9c-895950f56f0f"
      },
      "execution_count": 174,
      "outputs": [
        {
          "output_type": "execute_result",
          "data": {
            "text/plain": [
              "((416, 7), (104, 7))"
            ]
          },
          "metadata": {},
          "execution_count": 174
        }
      ]
    },
    {
      "cell_type": "code",
      "source": [
        "x_train_unique.head()"
      ],
      "metadata": {
        "colab": {
          "base_uri": "https://localhost:8080/",
          "height": 206
        },
        "id": "yLw8aEUshVq_",
        "outputId": "139bc4b4-0871-4862-d9fa-2eefcf75d614"
      },
      "execution_count": 175,
      "outputs": [
        {
          "output_type": "execute_result",
          "data": {
            "text/html": [
              "<div>\n",
              "<style scoped>\n",
              "    .dataframe tbody tr th:only-of-type {\n",
              "        vertical-align: middle;\n",
              "    }\n",
              "\n",
              "    .dataframe tbody tr th {\n",
              "        vertical-align: top;\n",
              "    }\n",
              "\n",
              "    .dataframe thead th {\n",
              "        text-align: right;\n",
              "    }\n",
              "</style>\n",
              "<table border=\"1\" class=\"dataframe\">\n",
              "  <thead>\n",
              "    <tr style=\"text-align: right;\">\n",
              "      <th></th>\n",
              "      <th>0</th>\n",
              "      <th>1</th>\n",
              "      <th>2</th>\n",
              "      <th>3</th>\n",
              "      <th>4</th>\n",
              "      <th>5</th>\n",
              "      <th>6</th>\n",
              "    </tr>\n",
              "  </thead>\n",
              "  <tbody>\n",
              "    <tr>\n",
              "      <th>0</th>\n",
              "      <td>4.0</td>\n",
              "      <td>127.0</td>\n",
              "      <td>88.0</td>\n",
              "      <td>11.0</td>\n",
              "      <td>155.0</td>\n",
              "      <td>34.5</td>\n",
              "      <td>28.0</td>\n",
              "    </tr>\n",
              "    <tr>\n",
              "      <th>1</th>\n",
              "      <td>7.0</td>\n",
              "      <td>94.0</td>\n",
              "      <td>64.0</td>\n",
              "      <td>25.0</td>\n",
              "      <td>79.0</td>\n",
              "      <td>33.3</td>\n",
              "      <td>41.0</td>\n",
              "    </tr>\n",
              "    <tr>\n",
              "      <th>2</th>\n",
              "      <td>1.0</td>\n",
              "      <td>136.0</td>\n",
              "      <td>74.0</td>\n",
              "      <td>50.0</td>\n",
              "      <td>204.0</td>\n",
              "      <td>37.4</td>\n",
              "      <td>24.0</td>\n",
              "    </tr>\n",
              "    <tr>\n",
              "      <th>3</th>\n",
              "      <td>0.0</td>\n",
              "      <td>188.0</td>\n",
              "      <td>82.0</td>\n",
              "      <td>14.0</td>\n",
              "      <td>185.0</td>\n",
              "      <td>32.0</td>\n",
              "      <td>22.0</td>\n",
              "    </tr>\n",
              "    <tr>\n",
              "      <th>4</th>\n",
              "      <td>4.0</td>\n",
              "      <td>184.0</td>\n",
              "      <td>78.0</td>\n",
              "      <td>39.0</td>\n",
              "      <td>277.0</td>\n",
              "      <td>37.0</td>\n",
              "      <td>31.0</td>\n",
              "    </tr>\n",
              "  </tbody>\n",
              "</table>\n",
              "</div>"
            ],
            "text/plain": [
              "     0      1     2     3      4     5     6\n",
              "0  4.0  127.0  88.0  11.0  155.0  34.5  28.0\n",
              "1  7.0   94.0  64.0  25.0   79.0  33.3  41.0\n",
              "2  1.0  136.0  74.0  50.0  204.0  37.4  24.0\n",
              "3  0.0  188.0  82.0  14.0  185.0  32.0  22.0\n",
              "4  4.0  184.0  78.0  39.0  277.0  37.0  31.0"
            ]
          },
          "metadata": {},
          "execution_count": 175
        }
      ]
    },
    {
      "cell_type": "markdown",
      "source": [
        "### Build ML model and compare the performance of the selected feature\n"
      ],
      "metadata": {
        "id": "Mmf4ptqvhcbV"
      }
    },
    {
      "cell_type": "code",
      "source": [
        "def randomForest(x_train,x_test,y_train,y_test):\n",
        "  model = RandomForestClassifier(n_estimators=100,random_state=0,n_jobs=-1)\n",
        "  model.fit(x_train,y_train)\n",
        "  y_pred = model.predict(x_test)\n",
        "  print(\"Accuracy(Testing Data) : \")\n",
        "  print(accuracy_score(y_test,y_pred))\n",
        "  return y_pred,model"
      ],
      "metadata": {
        "id": "m0uT78wvhVv-"
      },
      "execution_count": 176,
      "outputs": []
    },
    {
      "cell_type": "markdown",
      "source": [
        "### Checking wheather the computational time is reduced or not in Original datas Vs Modified datas"
      ],
      "metadata": {
        "id": "-zCYG7Ezh6UA"
      }
    },
    {
      "cell_type": "code",
      "source": [
        "%%time\n",
        "randomForest(x_tr,x_tst,y_tr,y_tst)"
      ],
      "metadata": {
        "colab": {
          "base_uri": "https://localhost:8080/"
        },
        "id": "PGAZAfOMhhg-",
        "outputId": "70bf6647-cee1-48b8-d528-a51e4f2f6955"
      },
      "execution_count": 177,
      "outputs": [
        {
          "output_type": "stream",
          "name": "stdout",
          "text": [
            "Accuracy(Testing Data) : \n",
            "0.8051948051948052\n",
            "CPU times: user 325 ms, sys: 42.9 ms, total: 368 ms\n",
            "Wall time: 452 ms\n"
          ]
        },
        {
          "output_type": "execute_result",
          "data": {
            "text/plain": [
              "(array([1, 0, 0, 1, 0, 0, 1, 1, 0, 0, 1, 1, 0, 0, 0, 0, 1, 0, 0, 0, 1, 0,\n",
              "        0, 0, 0, 0, 0, 1, 0, 0, 0, 0, 0, 1, 0, 1, 1, 0, 0, 1, 0, 0, 0, 1,\n",
              "        1, 0, 0, 0, 0, 0, 0, 0, 1, 1, 0, 0, 0, 0, 0, 0, 1, 1, 0, 1, 1, 1,\n",
              "        1, 0, 1, 0, 0, 0, 0, 1, 1, 0, 0, 1, 0, 0, 0, 0, 0, 0, 0, 0, 0, 0,\n",
              "        1, 0, 0, 0, 0, 0, 1, 0, 0, 0, 0, 1, 0, 0, 0, 0, 1, 1, 0, 1, 0, 0,\n",
              "        0, 0, 0, 1, 1, 1, 0, 0, 0, 1, 0, 0, 0, 0, 0, 0, 0, 0, 0, 1, 0, 0,\n",
              "        0, 1, 0, 1, 0, 0, 1, 0, 0, 1, 0, 0, 1, 0, 0, 0, 0, 0, 0, 0, 0, 0]),\n",
              " RandomForestClassifier(n_jobs=-1, random_state=0))"
            ]
          },
          "metadata": {},
          "execution_count": 177
        }
      ]
    },
    {
      "cell_type": "code",
      "source": [
        "x_tr.shape,x_train_unique.shape"
      ],
      "metadata": {
        "colab": {
          "base_uri": "https://localhost:8080/"
        },
        "id": "sS1-59qehhmF",
        "outputId": "ba882231-6c2c-41f7-b2ed-8f40a05d0bd8"
      },
      "execution_count": 178,
      "outputs": [
        {
          "output_type": "execute_result",
          "data": {
            "text/plain": [
              "((614, 12), (416, 7))"
            ]
          },
          "metadata": {},
          "execution_count": 178
        }
      ]
    },
    {
      "cell_type": "code",
      "source": [
        "%%time\n",
        "randomForest(x_train_unique,x_test_unique,y_train,y_test)"
      ],
      "metadata": {
        "colab": {
          "base_uri": "https://localhost:8080/"
        },
        "id": "1xCsCJAOhhp7",
        "outputId": "f70ddfbc-c040-4afa-be23-198b042a4d1d"
      },
      "execution_count": 179,
      "outputs": [
        {
          "output_type": "stream",
          "name": "stdout",
          "text": [
            "Accuracy(Testing Data) : \n",
            "0.9615384615384616\n",
            "CPU times: user 261 ms, sys: 41 ms, total: 302 ms\n",
            "Wall time: 360 ms\n"
          ]
        },
        {
          "output_type": "execute_result",
          "data": {
            "text/plain": [
              "(array([1, 1, 1, 1, 0, 0, 1, 1, 1, 0, 0, 1, 0, 1, 0, 0, 1, 1, 0, 1, 1, 0,\n",
              "        0, 1, 0, 0, 0, 0, 1, 1, 1, 0, 0, 0, 1, 1, 1, 0, 1, 1, 1, 1, 1, 1,\n",
              "        1, 1, 0, 1, 1, 0, 0, 0, 1, 0, 1, 1, 1, 1, 1, 0, 1, 0, 1, 1, 1, 1,\n",
              "        0, 1, 0, 0, 1, 1, 1, 1, 0, 0, 0, 0, 1, 1, 1, 1, 1, 1, 1, 0, 1, 1,\n",
              "        1, 0, 0, 1, 1, 1, 1, 1, 1, 0, 0, 1, 0, 0, 0, 1]),\n",
              " RandomForestClassifier(n_jobs=-1, random_state=0))"
            ]
          },
          "metadata": {},
          "execution_count": 179
        }
      ]
    },
    {
      "cell_type": "markdown",
      "source": [
        "### Finding the Correlation between the feauters\n"
      ],
      "metadata": {
        "id": "5ojBw48IioyW"
      }
    },
    {
      "cell_type": "code",
      "source": [
        "corrmat = x_train_unique.corr()\n",
        "corrmat"
      ],
      "metadata": {
        "colab": {
          "base_uri": "https://localhost:8080/",
          "height": 269
        },
        "id": "LhIC961sgtY3",
        "outputId": "8b1976b5-df0d-4ad1-aba7-2be3e17a17ab"
      },
      "execution_count": 180,
      "outputs": [
        {
          "output_type": "execute_result",
          "data": {
            "text/html": [
              "<div>\n",
              "<style scoped>\n",
              "    .dataframe tbody tr th:only-of-type {\n",
              "        vertical-align: middle;\n",
              "    }\n",
              "\n",
              "    .dataframe tbody tr th {\n",
              "        vertical-align: top;\n",
              "    }\n",
              "\n",
              "    .dataframe thead th {\n",
              "        text-align: right;\n",
              "    }\n",
              "</style>\n",
              "<table border=\"1\" class=\"dataframe\">\n",
              "  <thead>\n",
              "    <tr style=\"text-align: right;\">\n",
              "      <th></th>\n",
              "      <th>0</th>\n",
              "      <th>1</th>\n",
              "      <th>2</th>\n",
              "      <th>3</th>\n",
              "      <th>4</th>\n",
              "      <th>5</th>\n",
              "      <th>6</th>\n",
              "    </tr>\n",
              "  </thead>\n",
              "  <tbody>\n",
              "    <tr>\n",
              "      <th>0</th>\n",
              "      <td>1.000000</td>\n",
              "      <td>0.168002</td>\n",
              "      <td>0.232943</td>\n",
              "      <td>-0.060292</td>\n",
              "      <td>-0.026094</td>\n",
              "      <td>0.074500</td>\n",
              "      <td>0.565708</td>\n",
              "    </tr>\n",
              "    <tr>\n",
              "      <th>1</th>\n",
              "      <td>0.168002</td>\n",
              "      <td>1.000000</td>\n",
              "      <td>0.133554</td>\n",
              "      <td>0.081601</td>\n",
              "      <td>0.270652</td>\n",
              "      <td>0.387972</td>\n",
              "      <td>0.229776</td>\n",
              "    </tr>\n",
              "    <tr>\n",
              "      <th>2</th>\n",
              "      <td>0.232943</td>\n",
              "      <td>0.133554</td>\n",
              "      <td>1.000000</td>\n",
              "      <td>0.269381</td>\n",
              "      <td>0.104418</td>\n",
              "      <td>0.357730</td>\n",
              "      <td>0.309822</td>\n",
              "    </tr>\n",
              "    <tr>\n",
              "      <th>3</th>\n",
              "      <td>-0.060292</td>\n",
              "      <td>0.081601</td>\n",
              "      <td>0.269381</td>\n",
              "      <td>1.000000</td>\n",
              "      <td>0.494062</td>\n",
              "      <td>0.346086</td>\n",
              "      <td>-0.155913</td>\n",
              "    </tr>\n",
              "    <tr>\n",
              "      <th>4</th>\n",
              "      <td>-0.026094</td>\n",
              "      <td>0.270652</td>\n",
              "      <td>0.104418</td>\n",
              "      <td>0.494062</td>\n",
              "      <td>1.000000</td>\n",
              "      <td>0.121561</td>\n",
              "      <td>-0.002715</td>\n",
              "    </tr>\n",
              "    <tr>\n",
              "      <th>5</th>\n",
              "      <td>0.074500</td>\n",
              "      <td>0.387972</td>\n",
              "      <td>0.357730</td>\n",
              "      <td>0.346086</td>\n",
              "      <td>0.121561</td>\n",
              "      <td>1.000000</td>\n",
              "      <td>0.151060</td>\n",
              "    </tr>\n",
              "    <tr>\n",
              "      <th>6</th>\n",
              "      <td>0.565708</td>\n",
              "      <td>0.229776</td>\n",
              "      <td>0.309822</td>\n",
              "      <td>-0.155913</td>\n",
              "      <td>-0.002715</td>\n",
              "      <td>0.151060</td>\n",
              "      <td>1.000000</td>\n",
              "    </tr>\n",
              "  </tbody>\n",
              "</table>\n",
              "</div>"
            ],
            "text/plain": [
              "          0         1         2         3         4         5         6\n",
              "0  1.000000  0.168002  0.232943 -0.060292 -0.026094  0.074500  0.565708\n",
              "1  0.168002  1.000000  0.133554  0.081601  0.270652  0.387972  0.229776\n",
              "2  0.232943  0.133554  1.000000  0.269381  0.104418  0.357730  0.309822\n",
              "3 -0.060292  0.081601  0.269381  1.000000  0.494062  0.346086 -0.155913\n",
              "4 -0.026094  0.270652  0.104418  0.494062  1.000000  0.121561 -0.002715\n",
              "5  0.074500  0.387972  0.357730  0.346086  0.121561  1.000000  0.151060\n",
              "6  0.565708  0.229776  0.309822 -0.155913 -0.002715  0.151060  1.000000"
            ]
          },
          "metadata": {},
          "execution_count": 180
        }
      ]
    },
    {
      "cell_type": "code",
      "source": [
        "plt.figure(figsize = (12,8))\n",
        "sns.heatmap(corrmat)"
      ],
      "metadata": {
        "colab": {
          "base_uri": "https://localhost:8080/",
          "height": 504
        },
        "id": "LY1sHImriw_6",
        "outputId": "bc9f1c2b-e24b-4ca7-e4e8-1133ef685579"
      },
      "execution_count": 181,
      "outputs": [
        {
          "output_type": "execute_result",
          "data": {
            "text/plain": [
              "<matplotlib.axes._subplots.AxesSubplot at 0x7fca37f24fd0>"
            ]
          },
          "metadata": {},
          "execution_count": 181
        },
        {
          "output_type": "display_data",
          "data": {
            "image/png": "[encoded data removed]",
            "text/plain": [
              "<Figure size 864x576 with 2 Axes>"
            ]
          },
          "metadata": {
            "needs_background": "light"
          }
        }
      ]
    },
    {
      "cell_type": "code",
      "source": [
        "def getCorr(data,threshold):\n",
        "  corr_col = set()\n",
        "  corrmat = data.corr()\n",
        "  for i in range(len(corrmat.columns)):\n",
        "    for j in range(i):\n",
        "      if abs(corrmat.iloc[i,j]) > threshold :\n",
        "        colname = corrmat.columns[i]\n",
        "        corr_col.add(colname)\n",
        "  return corr_col\n"
      ],
      "metadata": {
        "id": "G-hlLHCRixGC"
      },
      "execution_count": 182,
      "outputs": []
    },
    {
      "cell_type": "code",
      "source": [
        "corr_features = getCorr(x_train_unique,0.85)\n",
        "# corr_features\n",
        "len(corr_features)"
      ],
      "metadata": {
        "colab": {
          "base_uri": "https://localhost:8080/"
        },
        "id": "Q43uXxNuixKA",
        "outputId": "5d12b117-edbf-4a18-ddc9-e5aa5a30d3ba"
      },
      "execution_count": 183,
      "outputs": [
        {
          "output_type": "execute_result",
          "data": {
            "text/plain": [
              "0"
            ]
          },
          "metadata": {},
          "execution_count": 183
        }
      ]
    },
    {
      "cell_type": "markdown",
      "source": [
        "### Feature Grouping and stacking\n"
      ],
      "metadata": {
        "id": "4_SCCOMRj20p"
      }
    },
    {
      "cell_type": "code",
      "source": [
        "corrmat"
      ],
      "metadata": {
        "colab": {
          "base_uri": "https://localhost:8080/",
          "height": 269
        },
        "id": "LSSV1JuFjvjv",
        "outputId": "700dce16-7dd6-4e27-b49d-89e167ef079c"
      },
      "execution_count": 184,
      "outputs": [
        {
          "output_type": "execute_result",
          "data": {
            "text/html": [
              "<div>\n",
              "<style scoped>\n",
              "    .dataframe tbody tr th:only-of-type {\n",
              "        vertical-align: middle;\n",
              "    }\n",
              "\n",
              "    .dataframe tbody tr th {\n",
              "        vertical-align: top;\n",
              "    }\n",
              "\n",
              "    .dataframe thead th {\n",
              "        text-align: right;\n",
              "    }\n",
              "</style>\n",
              "<table border=\"1\" class=\"dataframe\">\n",
              "  <thead>\n",
              "    <tr style=\"text-align: right;\">\n",
              "      <th></th>\n",
              "      <th>0</th>\n",
              "      <th>1</th>\n",
              "      <th>2</th>\n",
              "      <th>3</th>\n",
              "      <th>4</th>\n",
              "      <th>5</th>\n",
              "      <th>6</th>\n",
              "    </tr>\n",
              "  </thead>\n",
              "  <tbody>\n",
              "    <tr>\n",
              "      <th>0</th>\n",
              "      <td>1.000000</td>\n",
              "      <td>0.168002</td>\n",
              "      <td>0.232943</td>\n",
              "      <td>-0.060292</td>\n",
              "      <td>-0.026094</td>\n",
              "      <td>0.074500</td>\n",
              "      <td>0.565708</td>\n",
              "    </tr>\n",
              "    <tr>\n",
              "      <th>1</th>\n",
              "      <td>0.168002</td>\n",
              "      <td>1.000000</td>\n",
              "      <td>0.133554</td>\n",
              "      <td>0.081601</td>\n",
              "      <td>0.270652</td>\n",
              "      <td>0.387972</td>\n",
              "      <td>0.229776</td>\n",
              "    </tr>\n",
              "    <tr>\n",
              "      <th>2</th>\n",
              "      <td>0.232943</td>\n",
              "      <td>0.133554</td>\n",
              "      <td>1.000000</td>\n",
              "      <td>0.269381</td>\n",
              "      <td>0.104418</td>\n",
              "      <td>0.357730</td>\n",
              "      <td>0.309822</td>\n",
              "    </tr>\n",
              "    <tr>\n",
              "      <th>3</th>\n",
              "      <td>-0.060292</td>\n",
              "      <td>0.081601</td>\n",
              "      <td>0.269381</td>\n",
              "      <td>1.000000</td>\n",
              "      <td>0.494062</td>\n",
              "      <td>0.346086</td>\n",
              "      <td>-0.155913</td>\n",
              "    </tr>\n",
              "    <tr>\n",
              "      <th>4</th>\n",
              "      <td>-0.026094</td>\n",
              "      <td>0.270652</td>\n",
              "      <td>0.104418</td>\n",
              "      <td>0.494062</td>\n",
              "      <td>1.000000</td>\n",
              "      <td>0.121561</td>\n",
              "      <td>-0.002715</td>\n",
              "    </tr>\n",
              "    <tr>\n",
              "      <th>5</th>\n",
              "      <td>0.074500</td>\n",
              "      <td>0.387972</td>\n",
              "      <td>0.357730</td>\n",
              "      <td>0.346086</td>\n",
              "      <td>0.121561</td>\n",
              "      <td>1.000000</td>\n",
              "      <td>0.151060</td>\n",
              "    </tr>\n",
              "    <tr>\n",
              "      <th>6</th>\n",
              "      <td>0.565708</td>\n",
              "      <td>0.229776</td>\n",
              "      <td>0.309822</td>\n",
              "      <td>-0.155913</td>\n",
              "      <td>-0.002715</td>\n",
              "      <td>0.151060</td>\n",
              "      <td>1.000000</td>\n",
              "    </tr>\n",
              "  </tbody>\n",
              "</table>\n",
              "</div>"
            ],
            "text/plain": [
              "          0         1         2         3         4         5         6\n",
              "0  1.000000  0.168002  0.232943 -0.060292 -0.026094  0.074500  0.565708\n",
              "1  0.168002  1.000000  0.133554  0.081601  0.270652  0.387972  0.229776\n",
              "2  0.232943  0.133554  1.000000  0.269381  0.104418  0.357730  0.309822\n",
              "3 -0.060292  0.081601  0.269381  1.000000  0.494062  0.346086 -0.155913\n",
              "4 -0.026094  0.270652  0.104418  0.494062  1.000000  0.121561 -0.002715\n",
              "5  0.074500  0.387972  0.357730  0.346086  0.121561  1.000000  0.151060\n",
              "6  0.565708  0.229776  0.309822 -0.155913 -0.002715  0.151060  1.000000"
            ]
          },
          "metadata": {},
          "execution_count": 184
        }
      ]
    },
    {
      "cell_type": "code",
      "source": [
        "corrdata = corrmat.abs().stack()\n",
        "corrdata"
      ],
      "metadata": {
        "colab": {
          "base_uri": "https://localhost:8080/"
        },
        "id": "sRsnpOmFjvpU",
        "outputId": "0e44e0ca-278d-4f92-c159-1856e2278524"
      },
      "execution_count": 185,
      "outputs": [
        {
          "output_type": "execute_result",
          "data": {
            "text/plain": [
              "0  0    1.000000\n",
              "   1    0.168002\n",
              "   2    0.232943\n",
              "   3    0.060292\n",
              "   4    0.026094\n",
              "   5    0.074500\n",
              "   6    0.565708\n",
              "1  0    0.168002\n",
              "   1    1.000000\n",
              "   2    0.133554\n",
              "   3    0.081601\n",
              "   4    0.270652\n",
              "   5    0.387972\n",
              "   6    0.229776\n",
              "2  0    0.232943\n",
              "   1    0.133554\n",
              "   2    1.000000\n",
              "   3    0.269381\n",
              "   4    0.104418\n",
              "   5    0.357730\n",
              "   6    0.309822\n",
              "3  0    0.060292\n",
              "   1    0.081601\n",
              "   2    0.269381\n",
              "   3    1.000000\n",
              "   4    0.494062\n",
              "   5    0.346086\n",
              "   6    0.155913\n",
              "4  0    0.026094\n",
              "   1    0.270652\n",
              "   2    0.104418\n",
              "   3    0.494062\n",
              "   4    1.000000\n",
              "   5    0.121561\n",
              "   6    0.002715\n",
              "5  0    0.074500\n",
              "   1    0.387972\n",
              "   2    0.357730\n",
              "   3    0.346086\n",
              "   4    0.121561\n",
              "   5    1.000000\n",
              "   6    0.151060\n",
              "6  0    0.565708\n",
              "   1    0.229776\n",
              "   2    0.309822\n",
              "   3    0.155913\n",
              "   4    0.002715\n",
              "   5    0.151060\n",
              "   6    1.000000\n",
              "dtype: float64"
            ]
          },
          "metadata": {},
          "execution_count": 185
        }
      ]
    },
    {
      "cell_type": "code",
      "source": [
        "corrdata = corrdata.sort_values(ascending = False)\n",
        "corrdata"
      ],
      "metadata": {
        "colab": {
          "base_uri": "https://localhost:8080/"
        },
        "id": "d5oxfU2ojvtz",
        "outputId": "41b592d7-f001-4f04-956d-52d6f4de1d06"
      },
      "execution_count": 186,
      "outputs": [
        {
          "output_type": "execute_result",
          "data": {
            "text/plain": [
              "6  6    1.000000\n",
              "5  5    1.000000\n",
              "1  1    1.000000\n",
              "2  2    1.000000\n",
              "4  4    1.000000\n",
              "3  3    1.000000\n",
              "0  0    1.000000\n",
              "   6    0.565708\n",
              "6  0    0.565708\n",
              "4  3    0.494062\n",
              "3  4    0.494062\n",
              "5  1    0.387972\n",
              "1  5    0.387972\n",
              "2  5    0.357730\n",
              "5  2    0.357730\n",
              "   3    0.346086\n",
              "3  5    0.346086\n",
              "6  2    0.309822\n",
              "2  6    0.309822\n",
              "1  4    0.270652\n",
              "4  1    0.270652\n",
              "3  2    0.269381\n",
              "2  3    0.269381\n",
              "0  2    0.232943\n",
              "2  0    0.232943\n",
              "1  6    0.229776\n",
              "6  1    0.229776\n",
              "1  0    0.168002\n",
              "0  1    0.168002\n",
              "3  6    0.155913\n",
              "6  3    0.155913\n",
              "   5    0.151060\n",
              "5  6    0.151060\n",
              "1  2    0.133554\n",
              "2  1    0.133554\n",
              "5  4    0.121561\n",
              "4  5    0.121561\n",
              "2  4    0.104418\n",
              "4  2    0.104418\n",
              "3  1    0.081601\n",
              "1  3    0.081601\n",
              "0  5    0.074500\n",
              "5  0    0.074500\n",
              "0  3    0.060292\n",
              "3  0    0.060292\n",
              "4  0    0.026094\n",
              "0  4    0.026094\n",
              "6  4    0.002715\n",
              "4  6    0.002715\n",
              "dtype: float64"
            ]
          },
          "metadata": {},
          "execution_count": 186
        }
      ]
    },
    {
      "cell_type": "code",
      "source": [
        "corrdata = corrdata[corrdata > 0.4]\n",
        "corrdata = corrdata[corrdata < 1]\n",
        "corrdata"
      ],
      "metadata": {
        "colab": {
          "base_uri": "https://localhost:8080/"
        },
        "id": "okDeaNNUjvxe",
        "outputId": "6e219dee-fc9e-4e78-f137-c609c489ca1d"
      },
      "execution_count": 187,
      "outputs": [
        {
          "output_type": "execute_result",
          "data": {
            "text/plain": [
              "0  6    0.565708\n",
              "6  0    0.565708\n",
              "4  3    0.494062\n",
              "3  4    0.494062\n",
              "dtype: float64"
            ]
          },
          "metadata": {},
          "execution_count": 187
        }
      ]
    },
    {
      "cell_type": "markdown",
      "source": [
        "### Using Tree based classifier"
      ],
      "metadata": {
        "id": "8P6qe9VXkhuF"
      }
    },
    {
      "cell_type": "code",
      "source": [
        "rf = RandomForestClassifier(n_estimators=100,random_state=0)\n",
        "rf.fit(x_train_unique,y_train)"
      ],
      "metadata": {
        "colab": {
          "base_uri": "https://localhost:8080/"
        },
        "id": "QXhd1n2skOVB",
        "outputId": "f455e8a4-bfb6-4a03-fbc1-d82181aaa6fd"
      },
      "execution_count": 188,
      "outputs": [
        {
          "output_type": "execute_result",
          "data": {
            "text/plain": [
              "RandomForestClassifier(random_state=0)"
            ]
          },
          "metadata": {},
          "execution_count": 188
        }
      ]
    },
    {
      "cell_type": "code",
      "source": [
        "features = x_train_unique.columns\n",
        "features"
      ],
      "metadata": {
        "colab": {
          "base_uri": "https://localhost:8080/"
        },
        "id": "QcEXhB7tkOZ_",
        "outputId": "d4abc2e8-37df-4e26-e4bd-9592054a810f"
      },
      "execution_count": 189,
      "outputs": [
        {
          "output_type": "execute_result",
          "data": {
            "text/plain": [
              "Int64Index([0, 1, 2, 3, 4, 5, 6], dtype='int64')"
            ]
          },
          "metadata": {},
          "execution_count": 189
        }
      ]
    },
    {
      "cell_type": "code",
      "source": [
        "importance = pd.concat([pd.Series(features),pd.Series(rf.feature_importances_)],axis = 1)\n",
        "importance.columns = ['features','importance']\n",
        "importance.sort_values(by = 'importance',ascending = False,inplace = True)\n",
        "importance"
      ],
      "metadata": {
        "colab": {
          "base_uri": "https://localhost:8080/",
          "height": 269
        },
        "id": "b5kIKCNHixNs",
        "outputId": "9de675c4-522e-4cdf-8c07-57504b48c841"
      },
      "execution_count": 190,
      "outputs": [
        {
          "output_type": "execute_result",
          "data": {
            "text/html": [
              "<div>\n",
              "<style scoped>\n",
              "    .dataframe tbody tr th:only-of-type {\n",
              "        vertical-align: middle;\n",
              "    }\n",
              "\n",
              "    .dataframe tbody tr th {\n",
              "        vertical-align: top;\n",
              "    }\n",
              "\n",
              "    .dataframe thead th {\n",
              "        text-align: right;\n",
              "    }\n",
              "</style>\n",
              "<table border=\"1\" class=\"dataframe\">\n",
              "  <thead>\n",
              "    <tr style=\"text-align: right;\">\n",
              "      <th></th>\n",
              "      <th>features</th>\n",
              "      <th>importance</th>\n",
              "    </tr>\n",
              "  </thead>\n",
              "  <tbody>\n",
              "    <tr>\n",
              "      <th>1</th>\n",
              "      <td>1</td>\n",
              "      <td>0.459076</td>\n",
              "    </tr>\n",
              "    <tr>\n",
              "      <th>6</th>\n",
              "      <td>6</td>\n",
              "      <td>0.173515</td>\n",
              "    </tr>\n",
              "    <tr>\n",
              "      <th>5</th>\n",
              "      <td>5</td>\n",
              "      <td>0.145419</td>\n",
              "    </tr>\n",
              "    <tr>\n",
              "      <th>2</th>\n",
              "      <td>2</td>\n",
              "      <td>0.065453</td>\n",
              "    </tr>\n",
              "    <tr>\n",
              "      <th>4</th>\n",
              "      <td>4</td>\n",
              "      <td>0.064187</td>\n",
              "    </tr>\n",
              "    <tr>\n",
              "      <th>3</th>\n",
              "      <td>3</td>\n",
              "      <td>0.046579</td>\n",
              "    </tr>\n",
              "    <tr>\n",
              "      <th>0</th>\n",
              "      <td>0</td>\n",
              "      <td>0.045771</td>\n",
              "    </tr>\n",
              "  </tbody>\n",
              "</table>\n",
              "</div>"
            ],
            "text/plain": [
              "   features  importance\n",
              "1         1    0.459076\n",
              "6         6    0.173515\n",
              "5         5    0.145419\n",
              "2         2    0.065453\n",
              "4         4    0.064187\n",
              "3         3    0.046579\n",
              "0         0    0.045771"
            ]
          },
          "metadata": {},
          "execution_count": 190
        }
      ]
    },
    {
      "cell_type": "code",
      "source": [
        "train = x_train_unique.drop([2,3],axis = 1)\n",
        "test = x_test_unique.drop([2,3],axis = 1)"
      ],
      "metadata": {
        "id": "AZZErWFKkpTo"
      },
      "execution_count": 191,
      "outputs": []
    },
    {
      "cell_type": "markdown",
      "source": [
        "### Final Score"
      ],
      "metadata": {
        "id": "8CkitGUinrFF"
      }
    },
    {
      "cell_type": "code",
      "source": [
        "%%time\n",
        "y_pred,model = randomForest(train,test,y_train,y_test)"
      ],
      "metadata": {
        "colab": {
          "base_uri": "https://localhost:8080/"
        },
        "id": "yTdW2ilPkpZo",
        "outputId": "ddf1c050-ad91-436a-f885-1c7a7bf12c90"
      },
      "execution_count": 192,
      "outputs": [
        {
          "output_type": "stream",
          "name": "stdout",
          "text": [
            "Accuracy(Testing Data) : \n",
            "0.9519230769230769\n",
            "CPU times: user 280 ms, sys: 29.6 ms, total: 310 ms\n",
            "Wall time: 353 ms\n"
          ]
        }
      ]
    },
    {
      "cell_type": "code",
      "source": [
        "print(classification_report(y_test, y_pred))"
      ],
      "metadata": {
        "colab": {
          "base_uri": "https://localhost:8080/"
        },
        "id": "rqZKXbgckpdp",
        "outputId": "2401e370-2dd9-4139-c5fa-2fa5ec06a544"
      },
      "execution_count": 193,
      "outputs": [
        {
          "output_type": "stream",
          "name": "stdout",
          "text": [
            "              precision    recall  f1-score   support\n",
            "\n",
            "           0       0.97      0.90      0.94        42\n",
            "           1       0.94      0.98      0.96        62\n",
            "\n",
            "    accuracy                           0.95       104\n",
            "   macro avg       0.96      0.94      0.95       104\n",
            "weighted avg       0.95      0.95      0.95       104\n",
            "\n"
          ]
        }
      ]
    },
    {
      "cell_type": "markdown",
      "source": [
        "### Saving the model"
      ],
      "metadata": {
        "id": "-PT0mxwmqTD_"
      }
    },
    {
      "cell_type": "code",
      "source": [
        "import pickle\n",
        "with open('model.sav','wb') as f :\n",
        "  pickle.dump(model,f)"
      ],
      "metadata": {
        "id": "Etohsnsgn313"
      },
      "execution_count": 194,
      "outputs": []
    },
    {
      "cell_type": "code",
      "source": [
        "with open('model.sav','rb') as f:\n",
        "  model = pickle.load(f)\n",
        "p = model.predict(test)\n",
        "print(classification_report(y_test,p))"
      ],
      "metadata": {
        "colab": {
          "base_uri": "https://localhost:8080/"
        },
        "id": "3Pm0x2Gun4JG",
        "outputId": "8ea60ed2-8392-49a0-a086-3664c17e3bdd"
      },
      "execution_count": 202,
      "outputs": [
        {
          "output_type": "stream",
          "name": "stdout",
          "text": [
            "              precision    recall  f1-score   support\n",
            "\n",
            "           0       0.97      0.90      0.94        42\n",
            "           1       0.94      0.98      0.96        62\n",
            "\n",
            "    accuracy                           0.95       104\n",
            "   macro avg       0.96      0.94      0.95       104\n",
            "weighted avg       0.95      0.95      0.95       104\n",
            "\n"
          ]
        }
      ]
    },
    {
      "cell_type": "code",
      "source": [
        ""
      ],
      "metadata": {
        "id": "mXKj06dTn4Ox"
      },
      "execution_count": null,
      "outputs": []
    }
  ]
}