{
  "nbformat": 4,
  "nbformat_minor": 0,
  "metadata": {
    "colab": {
      "name": "data_analysis.ipynb",
      "provenance": [],
      "collapsed_sections": []
    },
    "kernelspec": {
      "name": "python3",
      "display_name": "Python 3"
    },
    "language_info": {
      "name": "python"
    }
  },
  "cells": [
    {
      "cell_type": "code",
      "execution_count": 254,
      "metadata": {
        "id": "O0dYwvHHVFvr"
      },
      "outputs": [],
      "source": [
        "import numpy as np\n",
        "import pandas as pd\n",
        "import matplotlib.pyplot as plt\n",
        "import seaborn as sns"
      ]
    },
    {
      "cell_type": "code",
      "source": [
        "from sklearn.model_selection import train_test_split\n",
        "from sklearn.ensemble import RandomForestClassifier\n",
        "from sklearn.metrics import accuracy_score\n",
        "from sklearn.feature_selection import VarianceThreshold\n",
        "\n"
      ],
      "metadata": {
        "id": "NJpCyvukWf8A"
      },
      "execution_count": 255,
      "outputs": []
    },
    {
      "cell_type": "code",
      "source": [
        "data = pd.read_csv('dataset.csv')\n",
        "data"
      ],
      "metadata": {
        "colab": {
          "base_uri": "https://localhost:8080/",
          "height": 461
        },
        "id": "cCh0EJ53ayxM",
        "outputId": "cd317b2b-c145-414e-880f-f1b0d8c79f1b"
      },
      "execution_count": 256,
      "outputs": [
        {
          "output_type": "execute_result",
          "data": {
            "text/html": [
              "<div>\n",
              "<style scoped>\n",
              "    .dataframe tbody tr th:only-of-type {\n",
              "        vertical-align: middle;\n",
              "    }\n",
              "\n",
              "    .dataframe tbody tr th {\n",
              "        vertical-align: top;\n",
              "    }\n",
              "\n",
              "    .dataframe thead th {\n",
              "        text-align: right;\n",
              "    }\n",
              "</style>\n",
              "<table border=\"1\" class=\"dataframe\">\n",
              "  <thead>\n",
              "    <tr style=\"text-align: right;\">\n",
              "      <th></th>\n",
              "      <th>Unnamed: 0</th>\n",
              "      <th>Pregnancies</th>\n",
              "      <th>Glucose</th>\n",
              "      <th>BloodPressure</th>\n",
              "      <th>SkinThickness</th>\n",
              "      <th>Insulin</th>\n",
              "      <th>BMI</th>\n",
              "      <th>DiabetesPedigreeFunction</th>\n",
              "      <th>Age</th>\n",
              "      <th>Outcome</th>\n",
              "      <th>HairColor</th>\n",
              "      <th>Adult</th>\n",
              "      <th>Country</th>\n",
              "      <th>Age_1</th>\n",
              "    </tr>\n",
              "  </thead>\n",
              "  <tbody>\n",
              "    <tr>\n",
              "      <th>0</th>\n",
              "      <td>0</td>\n",
              "      <td>6</td>\n",
              "      <td>148</td>\n",
              "      <td>72</td>\n",
              "      <td>35</td>\n",
              "      <td>0</td>\n",
              "      <td>33.6</td>\n",
              "      <td>0.627</td>\n",
              "      <td>50</td>\n",
              "      <td>1</td>\n",
              "      <td>B</td>\n",
              "      <td>1</td>\n",
              "      <td>IND</td>\n",
              "      <td>50</td>\n",
              "    </tr>\n",
              "    <tr>\n",
              "      <th>1</th>\n",
              "      <td>1</td>\n",
              "      <td>1</td>\n",
              "      <td>85</td>\n",
              "      <td>66</td>\n",
              "      <td>29</td>\n",
              "      <td>0</td>\n",
              "      <td>26.6</td>\n",
              "      <td>0.351</td>\n",
              "      <td>31</td>\n",
              "      <td>0</td>\n",
              "      <td>B</td>\n",
              "      <td>1</td>\n",
              "      <td>IND</td>\n",
              "      <td>31</td>\n",
              "    </tr>\n",
              "    <tr>\n",
              "      <th>2</th>\n",
              "      <td>2</td>\n",
              "      <td>8</td>\n",
              "      <td>183</td>\n",
              "      <td>64</td>\n",
              "      <td>0</td>\n",
              "      <td>0</td>\n",
              "      <td>23.3</td>\n",
              "      <td>0.672</td>\n",
              "      <td>32</td>\n",
              "      <td>1</td>\n",
              "      <td>B</td>\n",
              "      <td>1</td>\n",
              "      <td>IND</td>\n",
              "      <td>32</td>\n",
              "    </tr>\n",
              "    <tr>\n",
              "      <th>3</th>\n",
              "      <td>3</td>\n",
              "      <td>1</td>\n",
              "      <td>89</td>\n",
              "      <td>66</td>\n",
              "      <td>23</td>\n",
              "      <td>94</td>\n",
              "      <td>28.1</td>\n",
              "      <td>0.167</td>\n",
              "      <td>21</td>\n",
              "      <td>0</td>\n",
              "      <td>B</td>\n",
              "      <td>1</td>\n",
              "      <td>IND</td>\n",
              "      <td>21</td>\n",
              "    </tr>\n",
              "    <tr>\n",
              "      <th>4</th>\n",
              "      <td>4</td>\n",
              "      <td>0</td>\n",
              "      <td>137</td>\n",
              "      <td>40</td>\n",
              "      <td>35</td>\n",
              "      <td>168</td>\n",
              "      <td>43.1</td>\n",
              "      <td>2.288</td>\n",
              "      <td>33</td>\n",
              "      <td>1</td>\n",
              "      <td>B</td>\n",
              "      <td>1</td>\n",
              "      <td>IND</td>\n",
              "      <td>33</td>\n",
              "    </tr>\n",
              "    <tr>\n",
              "      <th>...</th>\n",
              "      <td>...</td>\n",
              "      <td>...</td>\n",
              "      <td>...</td>\n",
              "      <td>...</td>\n",
              "      <td>...</td>\n",
              "      <td>...</td>\n",
              "      <td>...</td>\n",
              "      <td>...</td>\n",
              "      <td>...</td>\n",
              "      <td>...</td>\n",
              "      <td>...</td>\n",
              "      <td>...</td>\n",
              "      <td>...</td>\n",
              "      <td>...</td>\n",
              "    </tr>\n",
              "    <tr>\n",
              "      <th>763</th>\n",
              "      <td>763</td>\n",
              "      <td>10</td>\n",
              "      <td>101</td>\n",
              "      <td>76</td>\n",
              "      <td>48</td>\n",
              "      <td>180</td>\n",
              "      <td>32.9</td>\n",
              "      <td>0.171</td>\n",
              "      <td>63</td>\n",
              "      <td>0</td>\n",
              "      <td>W</td>\n",
              "      <td>1</td>\n",
              "      <td>IND</td>\n",
              "      <td>63</td>\n",
              "    </tr>\n",
              "    <tr>\n",
              "      <th>764</th>\n",
              "      <td>764</td>\n",
              "      <td>2</td>\n",
              "      <td>122</td>\n",
              "      <td>70</td>\n",
              "      <td>27</td>\n",
              "      <td>0</td>\n",
              "      <td>36.8</td>\n",
              "      <td>0.340</td>\n",
              "      <td>27</td>\n",
              "      <td>0</td>\n",
              "      <td>W</td>\n",
              "      <td>1</td>\n",
              "      <td>IND</td>\n",
              "      <td>27</td>\n",
              "    </tr>\n",
              "    <tr>\n",
              "      <th>765</th>\n",
              "      <td>765</td>\n",
              "      <td>5</td>\n",
              "      <td>121</td>\n",
              "      <td>72</td>\n",
              "      <td>23</td>\n",
              "      <td>112</td>\n",
              "      <td>26.2</td>\n",
              "      <td>0.245</td>\n",
              "      <td>30</td>\n",
              "      <td>0</td>\n",
              "      <td>W</td>\n",
              "      <td>1</td>\n",
              "      <td>IND</td>\n",
              "      <td>30</td>\n",
              "    </tr>\n",
              "    <tr>\n",
              "      <th>766</th>\n",
              "      <td>766</td>\n",
              "      <td>1</td>\n",
              "      <td>126</td>\n",
              "      <td>60</td>\n",
              "      <td>0</td>\n",
              "      <td>0</td>\n",
              "      <td>30.1</td>\n",
              "      <td>0.349</td>\n",
              "      <td>47</td>\n",
              "      <td>1</td>\n",
              "      <td>W</td>\n",
              "      <td>1</td>\n",
              "      <td>IND</td>\n",
              "      <td>47</td>\n",
              "    </tr>\n",
              "    <tr>\n",
              "      <th>767</th>\n",
              "      <td>767</td>\n",
              "      <td>1</td>\n",
              "      <td>93</td>\n",
              "      <td>70</td>\n",
              "      <td>31</td>\n",
              "      <td>0</td>\n",
              "      <td>30.4</td>\n",
              "      <td>0.315</td>\n",
              "      <td>23</td>\n",
              "      <td>0</td>\n",
              "      <td>W</td>\n",
              "      <td>1</td>\n",
              "      <td>IND</td>\n",
              "      <td>23</td>\n",
              "    </tr>\n",
              "  </tbody>\n",
              "</table>\n",
              "<p>768 rows × 14 columns</p>\n",
              "</div>"
            ],
            "text/plain": [
              "     Unnamed: 0  Pregnancies  Glucose  ...  Adult  Country  Age_1\n",
              "0             0            6      148  ...      1      IND     50\n",
              "1             1            1       85  ...      1      IND     31\n",
              "2             2            8      183  ...      1      IND     32\n",
              "3             3            1       89  ...      1      IND     21\n",
              "4             4            0      137  ...      1      IND     33\n",
              "..          ...          ...      ...  ...    ...      ...    ...\n",
              "763         763           10      101  ...      1      IND     63\n",
              "764         764            2      122  ...      1      IND     27\n",
              "765         765            5      121  ...      1      IND     30\n",
              "766         766            1      126  ...      1      IND     47\n",
              "767         767            1       93  ...      1      IND     23\n",
              "\n",
              "[768 rows x 14 columns]"
            ]
          },
          "metadata": {},
          "execution_count": 256
        }
      ]
    },
    {
      "cell_type": "code",
      "source": [
        "data.shape"
      ],
      "metadata": {
        "colab": {
          "base_uri": "https://localhost:8080/"
        },
        "id": "8VTQXW_LWgES",
        "outputId": "c392fb45-00d6-4409-d83a-db094bf2360b"
      },
      "execution_count": 257,
      "outputs": [
        {
          "output_type": "execute_result",
          "data": {
            "text/plain": [
              "(768, 14)"
            ]
          },
          "metadata": {},
          "execution_count": 257
        }
      ]
    },
    {
      "cell_type": "code",
      "source": [
        "data.columns"
      ],
      "metadata": {
        "id": "p_wLvHtKVPla",
        "outputId": "a62ab470-7dcd-4865-8442-70abc936d950",
        "colab": {
          "base_uri": "https://localhost:8080/"
        }
      },
      "execution_count": 258,
      "outputs": [
        {
          "output_type": "execute_result",
          "data": {
            "text/plain": [
              "Index(['Unnamed: 0', 'Pregnancies', 'Glucose', 'BloodPressure',\n",
              "       'SkinThickness', 'Insulin', 'BMI', 'DiabetesPedigreeFunction', 'Age',\n",
              "       'Outcome', 'HairColor', 'Adult', 'Country', 'Age_1'],\n",
              "      dtype='object')"
            ]
          },
          "metadata": {},
          "execution_count": 258
        }
      ]
    },
    {
      "cell_type": "code",
      "source": [
        "data.drop('Unnamed: 0',axis = 1, inplace = True)"
      ],
      "metadata": {
        "id": "WUcL_QP7S-Rf"
      },
      "execution_count": 259,
      "outputs": []
    },
    {
      "cell_type": "code",
      "source": [
        "data.head()"
      ],
      "metadata": {
        "colab": {
          "base_uri": "https://localhost:8080/",
          "height": 226
        },
        "id": "30tzVi9BZVng",
        "outputId": "f81e00dd-2d1e-4727-b57d-864edd4943a5"
      },
      "execution_count": 260,
      "outputs": [
        {
          "output_type": "execute_result",
          "data": {
            "text/html": [
              "<div>\n",
              "<style scoped>\n",
              "    .dataframe tbody tr th:only-of-type {\n",
              "        vertical-align: middle;\n",
              "    }\n",
              "\n",
              "    .dataframe tbody tr th {\n",
              "        vertical-align: top;\n",
              "    }\n",
              "\n",
              "    .dataframe thead th {\n",
              "        text-align: right;\n",
              "    }\n",
              "</style>\n",
              "<table border=\"1\" class=\"dataframe\">\n",
              "  <thead>\n",
              "    <tr style=\"text-align: right;\">\n",
              "      <th></th>\n",
              "      <th>Pregnancies</th>\n",
              "      <th>Glucose</th>\n",
              "      <th>BloodPressure</th>\n",
              "      <th>SkinThickness</th>\n",
              "      <th>Insulin</th>\n",
              "      <th>BMI</th>\n",
              "      <th>DiabetesPedigreeFunction</th>\n",
              "      <th>Age</th>\n",
              "      <th>Outcome</th>\n",
              "      <th>HairColor</th>\n",
              "      <th>Adult</th>\n",
              "      <th>Country</th>\n",
              "      <th>Age_1</th>\n",
              "    </tr>\n",
              "  </thead>\n",
              "  <tbody>\n",
              "    <tr>\n",
              "      <th>0</th>\n",
              "      <td>6</td>\n",
              "      <td>148</td>\n",
              "      <td>72</td>\n",
              "      <td>35</td>\n",
              "      <td>0</td>\n",
              "      <td>33.6</td>\n",
              "      <td>0.627</td>\n",
              "      <td>50</td>\n",
              "      <td>1</td>\n",
              "      <td>B</td>\n",
              "      <td>1</td>\n",
              "      <td>IND</td>\n",
              "      <td>50</td>\n",
              "    </tr>\n",
              "    <tr>\n",
              "      <th>1</th>\n",
              "      <td>1</td>\n",
              "      <td>85</td>\n",
              "      <td>66</td>\n",
              "      <td>29</td>\n",
              "      <td>0</td>\n",
              "      <td>26.6</td>\n",
              "      <td>0.351</td>\n",
              "      <td>31</td>\n",
              "      <td>0</td>\n",
              "      <td>B</td>\n",
              "      <td>1</td>\n",
              "      <td>IND</td>\n",
              "      <td>31</td>\n",
              "    </tr>\n",
              "    <tr>\n",
              "      <th>2</th>\n",
              "      <td>8</td>\n",
              "      <td>183</td>\n",
              "      <td>64</td>\n",
              "      <td>0</td>\n",
              "      <td>0</td>\n",
              "      <td>23.3</td>\n",
              "      <td>0.672</td>\n",
              "      <td>32</td>\n",
              "      <td>1</td>\n",
              "      <td>B</td>\n",
              "      <td>1</td>\n",
              "      <td>IND</td>\n",
              "      <td>32</td>\n",
              "    </tr>\n",
              "    <tr>\n",
              "      <th>3</th>\n",
              "      <td>1</td>\n",
              "      <td>89</td>\n",
              "      <td>66</td>\n",
              "      <td>23</td>\n",
              "      <td>94</td>\n",
              "      <td>28.1</td>\n",
              "      <td>0.167</td>\n",
              "      <td>21</td>\n",
              "      <td>0</td>\n",
              "      <td>B</td>\n",
              "      <td>1</td>\n",
              "      <td>IND</td>\n",
              "      <td>21</td>\n",
              "    </tr>\n",
              "    <tr>\n",
              "      <th>4</th>\n",
              "      <td>0</td>\n",
              "      <td>137</td>\n",
              "      <td>40</td>\n",
              "      <td>35</td>\n",
              "      <td>168</td>\n",
              "      <td>43.1</td>\n",
              "      <td>2.288</td>\n",
              "      <td>33</td>\n",
              "      <td>1</td>\n",
              "      <td>B</td>\n",
              "      <td>1</td>\n",
              "      <td>IND</td>\n",
              "      <td>33</td>\n",
              "    </tr>\n",
              "  </tbody>\n",
              "</table>\n",
              "</div>"
            ],
            "text/plain": [
              "   Pregnancies  Glucose  BloodPressure  ...  Adult  Country  Age_1\n",
              "0            6      148             72  ...      1      IND     50\n",
              "1            1       85             66  ...      1      IND     31\n",
              "2            8      183             64  ...      1      IND     32\n",
              "3            1       89             66  ...      1      IND     21\n",
              "4            0      137             40  ...      1      IND     33\n",
              "\n",
              "[5 rows x 13 columns]"
            ]
          },
          "metadata": {},
          "execution_count": 260
        }
      ]
    },
    {
      "cell_type": "markdown",
      "source": [
        "### Label enncoding"
      ],
      "metadata": {
        "id": "yyIEzrDIz651"
      }
    },
    {
      "cell_type": "code",
      "source": [
        "from sklearn import preprocessing\n",
        "lbl = preprocessing.LabelEncoder()\n",
        "data['HairColor'] = lbl.fit_transform(data['HairColor'])\n",
        "data['Country'] = lbl.fit_transform(data['Country'])\n",
        "\n",
        "data.head()"
      ],
      "metadata": {
        "colab": {
          "base_uri": "https://localhost:8080/",
          "height": 226
        },
        "id": "W1osik32z4E9",
        "outputId": "91f88874-943c-4461-80eb-879ce08faf4f"
      },
      "execution_count": 261,
      "outputs": [
        {
          "output_type": "execute_result",
          "data": {
            "text/html": [
              "<div>\n",
              "<style scoped>\n",
              "    .dataframe tbody tr th:only-of-type {\n",
              "        vertical-align: middle;\n",
              "    }\n",
              "\n",
              "    .dataframe tbody tr th {\n",
              "        vertical-align: top;\n",
              "    }\n",
              "\n",
              "    .dataframe thead th {\n",
              "        text-align: right;\n",
              "    }\n",
              "</style>\n",
              "<table border=\"1\" class=\"dataframe\">\n",
              "  <thead>\n",
              "    <tr style=\"text-align: right;\">\n",
              "      <th></th>\n",
              "      <th>Pregnancies</th>\n",
              "      <th>Glucose</th>\n",
              "      <th>BloodPressure</th>\n",
              "      <th>SkinThickness</th>\n",
              "      <th>Insulin</th>\n",
              "      <th>BMI</th>\n",
              "      <th>DiabetesPedigreeFunction</th>\n",
              "      <th>Age</th>\n",
              "      <th>Outcome</th>\n",
              "      <th>HairColor</th>\n",
              "      <th>Adult</th>\n",
              "      <th>Country</th>\n",
              "      <th>Age_1</th>\n",
              "    </tr>\n",
              "  </thead>\n",
              "  <tbody>\n",
              "    <tr>\n",
              "      <th>0</th>\n",
              "      <td>6</td>\n",
              "      <td>148</td>\n",
              "      <td>72</td>\n",
              "      <td>35</td>\n",
              "      <td>0</td>\n",
              "      <td>33.6</td>\n",
              "      <td>0.627</td>\n",
              "      <td>50</td>\n",
              "      <td>1</td>\n",
              "      <td>0</td>\n",
              "      <td>1</td>\n",
              "      <td>0</td>\n",
              "      <td>50</td>\n",
              "    </tr>\n",
              "    <tr>\n",
              "      <th>1</th>\n",
              "      <td>1</td>\n",
              "      <td>85</td>\n",
              "      <td>66</td>\n",
              "      <td>29</td>\n",
              "      <td>0</td>\n",
              "      <td>26.6</td>\n",
              "      <td>0.351</td>\n",
              "      <td>31</td>\n",
              "      <td>0</td>\n",
              "      <td>0</td>\n",
              "      <td>1</td>\n",
              "      <td>0</td>\n",
              "      <td>31</td>\n",
              "    </tr>\n",
              "    <tr>\n",
              "      <th>2</th>\n",
              "      <td>8</td>\n",
              "      <td>183</td>\n",
              "      <td>64</td>\n",
              "      <td>0</td>\n",
              "      <td>0</td>\n",
              "      <td>23.3</td>\n",
              "      <td>0.672</td>\n",
              "      <td>32</td>\n",
              "      <td>1</td>\n",
              "      <td>0</td>\n",
              "      <td>1</td>\n",
              "      <td>0</td>\n",
              "      <td>32</td>\n",
              "    </tr>\n",
              "    <tr>\n",
              "      <th>3</th>\n",
              "      <td>1</td>\n",
              "      <td>89</td>\n",
              "      <td>66</td>\n",
              "      <td>23</td>\n",
              "      <td>94</td>\n",
              "      <td>28.1</td>\n",
              "      <td>0.167</td>\n",
              "      <td>21</td>\n",
              "      <td>0</td>\n",
              "      <td>0</td>\n",
              "      <td>1</td>\n",
              "      <td>0</td>\n",
              "      <td>21</td>\n",
              "    </tr>\n",
              "    <tr>\n",
              "      <th>4</th>\n",
              "      <td>0</td>\n",
              "      <td>137</td>\n",
              "      <td>40</td>\n",
              "      <td>35</td>\n",
              "      <td>168</td>\n",
              "      <td>43.1</td>\n",
              "      <td>2.288</td>\n",
              "      <td>33</td>\n",
              "      <td>1</td>\n",
              "      <td>0</td>\n",
              "      <td>1</td>\n",
              "      <td>0</td>\n",
              "      <td>33</td>\n",
              "    </tr>\n",
              "  </tbody>\n",
              "</table>\n",
              "</div>"
            ],
            "text/plain": [
              "   Pregnancies  Glucose  BloodPressure  ...  Adult  Country  Age_1\n",
              "0            6      148             72  ...      1        0     50\n",
              "1            1       85             66  ...      1        0     31\n",
              "2            8      183             64  ...      1        0     32\n",
              "3            1       89             66  ...      1        0     21\n",
              "4            0      137             40  ...      1        0     33\n",
              "\n",
              "[5 rows x 13 columns]"
            ]
          },
          "metadata": {},
          "execution_count": 261
        }
      ]
    },
    {
      "cell_type": "code",
      "source": [
        "x = data.drop('Outcome',axis = 1)\n",
        "y = data['Outcome']\n",
        "\n",
        "x,y"
      ],
      "metadata": {
        "colab": {
          "base_uri": "https://localhost:8080/"
        },
        "id": "G12zrfWfZVvb",
        "outputId": "80f9be5e-0a90-4e70-f848-ccdbbd6fdbf0"
      },
      "execution_count": 262,
      "outputs": [
        {
          "output_type": "execute_result",
          "data": {
            "text/plain": [
              "(     Pregnancies  Glucose  BloodPressure  ...  Adult  Country  Age_1\n",
              " 0              6      148             72  ...      1        0     50\n",
              " 1              1       85             66  ...      1        0     31\n",
              " 2              8      183             64  ...      1        0     32\n",
              " 3              1       89             66  ...      1        0     21\n",
              " 4              0      137             40  ...      1        0     33\n",
              " ..           ...      ...            ...  ...    ...      ...    ...\n",
              " 763           10      101             76  ...      1        0     63\n",
              " 764            2      122             70  ...      1        0     27\n",
              " 765            5      121             72  ...      1        0     30\n",
              " 766            1      126             60  ...      1        0     47\n",
              " 767            1       93             70  ...      1        0     23\n",
              " \n",
              " [768 rows x 12 columns], 0      1\n",
              " 1      0\n",
              " 2      1\n",
              " 3      0\n",
              " 4      1\n",
              "       ..\n",
              " 763    0\n",
              " 764    0\n",
              " 765    0\n",
              " 766    1\n",
              " 767    0\n",
              " Name: Outcome, Length: 768, dtype: int64)"
            ]
          },
          "metadata": {},
          "execution_count": 262
        }
      ]
    },
    {
      "cell_type": "code",
      "source": [
        "x_train,x_test,y_train,y_test = train_test_split(x,y,test_size = 0.2,random_state = 0)\n",
        "x_tr,x_tst,y_tr,y_tst = x_train,x_test,y_train,y_test"
      ],
      "metadata": {
        "id": "J35lbSfSWgJs"
      },
      "execution_count": 263,
      "outputs": []
    },
    {
      "cell_type": "markdown",
      "source": [
        "### Constant Features Removal"
      ],
      "metadata": {
        "id": "6iVcyhWZnoQw"
      }
    },
    {
      "cell_type": "code",
      "source": [
        "constant_filter = VarianceThreshold(threshold=0)\n",
        "constant_filter.fit(x_train)"
      ],
      "metadata": {
        "colab": {
          "base_uri": "https://localhost:8080/"
        },
        "id": "OwQ9a_CzjuSa",
        "outputId": "33efe20b-c32e-4810-937e-c98fbdc929fe"
      },
      "execution_count": 264,
      "outputs": [
        {
          "output_type": "execute_result",
          "data": {
            "text/plain": [
              "VarianceThreshold(threshold=0)"
            ]
          },
          "metadata": {},
          "execution_count": 264
        }
      ]
    },
    {
      "cell_type": "code",
      "source": [
        "constant_filter.get_support().sum()"
      ],
      "metadata": {
        "colab": {
          "base_uri": "https://localhost:8080/"
        },
        "id": "YSyyZKIfjszf",
        "outputId": "a0b7a7bd-5c39-4625-f92f-634d8efb41dd"
      },
      "execution_count": 265,
      "outputs": [
        {
          "output_type": "execute_result",
          "data": {
            "text/plain": [
              "10"
            ]
          },
          "metadata": {},
          "execution_count": 265
        }
      ]
    },
    {
      "cell_type": "code",
      "source": [
        "constant_list = [not temp for temp in constant_filter.get_support()]\n",
        "constant_list"
      ],
      "metadata": {
        "colab": {
          "base_uri": "https://localhost:8080/"
        },
        "id": "eAnXObgyjs9m",
        "outputId": "0e381719-9a71-4e11-8cee-5bc2e057f164"
      },
      "execution_count": 266,
      "outputs": [
        {
          "output_type": "execute_result",
          "data": {
            "text/plain": [
              "[False,\n",
              " False,\n",
              " False,\n",
              " False,\n",
              " False,\n",
              " False,\n",
              " False,\n",
              " False,\n",
              " False,\n",
              " True,\n",
              " True,\n",
              " False]"
            ]
          },
          "metadata": {},
          "execution_count": 266
        }
      ]
    },
    {
      "cell_type": "code",
      "source": [
        "x_train = constant_filter.transform(x_train)\n",
        "x_test = constant_filter.transform(x_test)\n",
        "x_train.shape,x_test.shape"
      ],
      "metadata": {
        "colab": {
          "base_uri": "https://localhost:8080/"
        },
        "id": "a7VgjdfP1dgx",
        "outputId": "3e5df35e-c1f7-45b7-c1ae-f01e2cbb0ed3"
      },
      "execution_count": 267,
      "outputs": [
        {
          "output_type": "execute_result",
          "data": {
            "text/plain": [
              "((614, 10), (154, 10))"
            ]
          },
          "metadata": {},
          "execution_count": 267
        }
      ]
    },
    {
      "cell_type": "markdown",
      "source": [
        "### Quasi constant feature removal"
      ],
      "metadata": {
        "id": "iPO--gR2pIOn"
      }
    },
    {
      "cell_type": "code",
      "source": [
        "quasi_constant_filter = VarianceThreshold(threshold=0.1)\n",
        "quasi_constant_filter.fit(x_train)"
      ],
      "metadata": {
        "colab": {
          "base_uri": "https://localhost:8080/"
        },
        "id": "lgTw6kLNjthi",
        "outputId": "dfba98c6-7f47-4ec8-e799-111046ef6030"
      },
      "execution_count": 268,
      "outputs": [
        {
          "output_type": "execute_result",
          "data": {
            "text/plain": [
              "VarianceThreshold(threshold=0.1)"
            ]
          },
          "metadata": {},
          "execution_count": 268
        }
      ]
    },
    {
      "cell_type": "code",
      "source": [
        "quasi_constant_filter.get_support().sum()"
      ],
      "metadata": {
        "colab": {
          "base_uri": "https://localhost:8080/"
        },
        "id": "op2Oe_2Ao3ZH",
        "outputId": "83961fb2-148b-4e06-91d8-5af5801ca884"
      },
      "execution_count": 269,
      "outputs": [
        {
          "output_type": "execute_result",
          "data": {
            "text/plain": [
              "9"
            ]
          },
          "metadata": {},
          "execution_count": 269
        }
      ]
    },
    {
      "cell_type": "code",
      "source": [
        "quasi_constant_list = [not temp for temp in quasi_constant_filter.get_support()]\n",
        "quasi_constant_list  "
      ],
      "metadata": {
        "colab": {
          "base_uri": "https://localhost:8080/"
        },
        "id": "kkTM_KOpo3ep",
        "outputId": "9013a898-9f96-4296-9d64-1392823319fe"
      },
      "execution_count": 270,
      "outputs": [
        {
          "output_type": "execute_result",
          "data": {
            "text/plain": [
              "[False, False, False, False, False, False, False, False, True, False]"
            ]
          },
          "metadata": {},
          "execution_count": 270
        }
      ]
    },
    {
      "cell_type": "code",
      "source": [
        "x_train = quasi_constant_filter.transform(x_train)\n",
        "x_test = quasi_constant_filter.transform(x_test)\n",
        "x_train.shape,x_test.shape"
      ],
      "metadata": {
        "colab": {
          "base_uri": "https://localhost:8080/"
        },
        "id": "fTtW_P8G3Cpn",
        "outputId": "5f1a166f-7188-4750-f2fe-ee639a9d3f7a"
      },
      "execution_count": 271,
      "outputs": [
        {
          "output_type": "execute_result",
          "data": {
            "text/plain": [
              "((614, 9), (154, 9))"
            ]
          },
          "metadata": {},
          "execution_count": 271
        }
      ]
    },
    {
      "cell_type": "markdown",
      "source": [
        "### Remove Duplicate Features"
      ],
      "metadata": {
        "id": "Y1A-lYAAqzrQ"
      }
    },
    {
      "cell_type": "code",
      "source": [
        "x_train_T = x_train.T\n",
        "x_test_T = x_test.T\n",
        "\n",
        "x_train_T.shape,x_test_T.shape"
      ],
      "metadata": {
        "colab": {
          "base_uri": "https://localhost:8080/"
        },
        "id": "9sDe-vu2o3ji",
        "outputId": "9f4fd2df-6da7-4b4b-a153-63826a5b68f0"
      },
      "execution_count": 272,
      "outputs": [
        {
          "output_type": "execute_result",
          "data": {
            "text/plain": [
              "((9, 614), (9, 154))"
            ]
          },
          "metadata": {},
          "execution_count": 272
        }
      ]
    },
    {
      "cell_type": "code",
      "source": [
        "x_train_T = pd.DataFrame(x_train_T)\n",
        "x_test_T = pd.DataFrame(x_test_T)"
      ],
      "metadata": {
        "id": "nivOHwCJ49He"
      },
      "execution_count": 273,
      "outputs": []
    },
    {
      "cell_type": "code",
      "source": [
        "x_train_T.duplicated().sum()"
      ],
      "metadata": {
        "colab": {
          "base_uri": "https://localhost:8080/"
        },
        "id": "IuulRevbo3n_",
        "outputId": "3a1d1812-c4b4-493b-f08f-ddec72f1535b"
      },
      "execution_count": 274,
      "outputs": [
        {
          "output_type": "execute_result",
          "data": {
            "text/plain": [
              "1"
            ]
          },
          "metadata": {},
          "execution_count": 274
        }
      ]
    },
    {
      "cell_type": "code",
      "source": [
        "duplicated_features = x_train_T.duplicated()\n",
        "duplicated_features"
      ],
      "metadata": {
        "colab": {
          "base_uri": "https://localhost:8080/"
        },
        "id": "2kkmveiIo3rL",
        "outputId": "ce5e3519-2510-4620-84eb-6952907dfe41"
      },
      "execution_count": 275,
      "outputs": [
        {
          "output_type": "execute_result",
          "data": {
            "text/plain": [
              "0    False\n",
              "1    False\n",
              "2    False\n",
              "3    False\n",
              "4    False\n",
              "5    False\n",
              "6    False\n",
              "7    False\n",
              "8     True\n",
              "dtype: bool"
            ]
          },
          "metadata": {},
          "execution_count": 275
        }
      ]
    },
    {
      "cell_type": "code",
      "source": [
        "features_to_keep = [not data for data in duplicated_features]\n",
        "features_to_keep"
      ],
      "metadata": {
        "colab": {
          "base_uri": "https://localhost:8080/"
        },
        "id": "ciOofoDpo3-P",
        "outputId": "9f5fe978-7f3c-48db-d6df-e37d17cff085"
      },
      "execution_count": 276,
      "outputs": [
        {
          "output_type": "execute_result",
          "data": {
            "text/plain": [
              "[True, True, True, True, True, True, True, True, False]"
            ]
          },
          "metadata": {},
          "execution_count": 276
        }
      ]
    },
    {
      "cell_type": "code",
      "source": [
        "x_train_unique = x_train_T[features_to_keep].T\n",
        "x_test_unique = x_test_T[features_to_keep].T"
      ],
      "metadata": {
        "id": "H1l8Lr6po4C5"
      },
      "execution_count": 277,
      "outputs": []
    },
    {
      "cell_type": "code",
      "source": [
        "x_train_unique.shape,x_test_unique.shape"
      ],
      "metadata": {
        "colab": {
          "base_uri": "https://localhost:8080/"
        },
        "id": "ly1AT-zaWgOh",
        "outputId": "08c256c7-eb51-4524-ad70-93a8a30a5811"
      },
      "execution_count": 278,
      "outputs": [
        {
          "output_type": "execute_result",
          "data": {
            "text/plain": [
              "((614, 8), (154, 8))"
            ]
          },
          "metadata": {},
          "execution_count": 278
        }
      ]
    },
    {
      "cell_type": "code",
      "source": [
        "x_train_unique.head()"
      ],
      "metadata": {
        "colab": {
          "base_uri": "https://localhost:8080/",
          "height": 206
        },
        "id": "QONPuSol6KoG",
        "outputId": "31f8c503-d138-4b76-c504-e81cfde7984e"
      },
      "execution_count": 279,
      "outputs": [
        {
          "output_type": "execute_result",
          "data": {
            "text/html": [
              "<div>\n",
              "<style scoped>\n",
              "    .dataframe tbody tr th:only-of-type {\n",
              "        vertical-align: middle;\n",
              "    }\n",
              "\n",
              "    .dataframe tbody tr th {\n",
              "        vertical-align: top;\n",
              "    }\n",
              "\n",
              "    .dataframe thead th {\n",
              "        text-align: right;\n",
              "    }\n",
              "</style>\n",
              "<table border=\"1\" class=\"dataframe\">\n",
              "  <thead>\n",
              "    <tr style=\"text-align: right;\">\n",
              "      <th></th>\n",
              "      <th>0</th>\n",
              "      <th>1</th>\n",
              "      <th>2</th>\n",
              "      <th>3</th>\n",
              "      <th>4</th>\n",
              "      <th>5</th>\n",
              "      <th>6</th>\n",
              "      <th>7</th>\n",
              "    </tr>\n",
              "  </thead>\n",
              "  <tbody>\n",
              "    <tr>\n",
              "      <th>0</th>\n",
              "      <td>7.0</td>\n",
              "      <td>150.0</td>\n",
              "      <td>78.0</td>\n",
              "      <td>29.0</td>\n",
              "      <td>126.0</td>\n",
              "      <td>35.2</td>\n",
              "      <td>0.692</td>\n",
              "      <td>54.0</td>\n",
              "    </tr>\n",
              "    <tr>\n",
              "      <th>1</th>\n",
              "      <td>4.0</td>\n",
              "      <td>97.0</td>\n",
              "      <td>60.0</td>\n",
              "      <td>23.0</td>\n",
              "      <td>0.0</td>\n",
              "      <td>28.2</td>\n",
              "      <td>0.443</td>\n",
              "      <td>22.0</td>\n",
              "    </tr>\n",
              "    <tr>\n",
              "      <th>2</th>\n",
              "      <td>0.0</td>\n",
              "      <td>165.0</td>\n",
              "      <td>90.0</td>\n",
              "      <td>33.0</td>\n",
              "      <td>680.0</td>\n",
              "      <td>52.3</td>\n",
              "      <td>0.427</td>\n",
              "      <td>23.0</td>\n",
              "    </tr>\n",
              "    <tr>\n",
              "      <th>3</th>\n",
              "      <td>1.0</td>\n",
              "      <td>109.0</td>\n",
              "      <td>56.0</td>\n",
              "      <td>21.0</td>\n",
              "      <td>135.0</td>\n",
              "      <td>25.2</td>\n",
              "      <td>0.833</td>\n",
              "      <td>23.0</td>\n",
              "    </tr>\n",
              "    <tr>\n",
              "      <th>4</th>\n",
              "      <td>8.0</td>\n",
              "      <td>120.0</td>\n",
              "      <td>0.0</td>\n",
              "      <td>0.0</td>\n",
              "      <td>0.0</td>\n",
              "      <td>30.0</td>\n",
              "      <td>0.183</td>\n",
              "      <td>38.0</td>\n",
              "    </tr>\n",
              "  </tbody>\n",
              "</table>\n",
              "</div>"
            ],
            "text/plain": [
              "     0      1     2     3      4     5      6     7\n",
              "0  7.0  150.0  78.0  29.0  126.0  35.2  0.692  54.0\n",
              "1  4.0   97.0  60.0  23.0    0.0  28.2  0.443  22.0\n",
              "2  0.0  165.0  90.0  33.0  680.0  52.3  0.427  23.0\n",
              "3  1.0  109.0  56.0  21.0  135.0  25.2  0.833  23.0\n",
              "4  8.0  120.0   0.0   0.0    0.0  30.0  0.183  38.0"
            ]
          },
          "metadata": {},
          "execution_count": 279
        }
      ]
    },
    {
      "cell_type": "markdown",
      "source": [
        "### Build ML model and compare the performance of the selected feature"
      ],
      "metadata": {
        "id": "MxuzUza_6yjG"
      }
    },
    {
      "cell_type": "code",
      "source": [
        "def randomForest(x_train,x_test,y_train,y_test):\n",
        "  model = RandomForestClassifier(n_estimators=100,random_state=0,n_jobs=-1)\n",
        "  model.fit(x_train,y_train)\n",
        "  y_pred = model.predict(x_test)\n",
        "  print(\"Accuracy(Testing Data) : \")\n",
        "  print(accuracy_score(y_test,y_pred))"
      ],
      "metadata": {
        "id": "10NbTz_N6KsE"
      },
      "execution_count": 280,
      "outputs": []
    },
    {
      "cell_type": "markdown",
      "source": [
        "### Checking wheather the computational time is reduced or not in Original datas Vs Modified datas"
      ],
      "metadata": {
        "id": "EgPtSqDP_hM-"
      }
    },
    {
      "cell_type": "code",
      "source": [
        "%%time\n",
        "randomForest(x_tr,x_tst,y_tr,y_tst)"
      ],
      "metadata": {
        "colab": {
          "base_uri": "https://localhost:8080/"
        },
        "id": "f8s1_oT46Kv0",
        "outputId": "b70c344b-eee2-4999-bebe-e1f043fbb6b2"
      },
      "execution_count": 281,
      "outputs": [
        {
          "output_type": "stream",
          "name": "stdout",
          "text": [
            "Accuracy(Testing Data) : \n",
            "0.8051948051948052\n",
            "CPU times: user 310 ms, sys: 52.8 ms, total: 363 ms\n",
            "Wall time: 359 ms\n"
          ]
        }
      ]
    },
    {
      "cell_type": "code",
      "source": [
        "x_tr.shape,x_train_unique.shape"
      ],
      "metadata": {
        "colab": {
          "base_uri": "https://localhost:8080/"
        },
        "id": "F82QHpzz-pnG",
        "outputId": "41cb33b0-ff7f-4475-b985-27b798d9a268"
      },
      "execution_count": 282,
      "outputs": [
        {
          "output_type": "execute_result",
          "data": {
            "text/plain": [
              "((614, 12), (614, 8))"
            ]
          },
          "metadata": {},
          "execution_count": 282
        }
      ]
    },
    {
      "cell_type": "code",
      "source": [
        "%%time\n",
        "randomForest(x_train_unique,x_test_unique,y_train,y_test)"
      ],
      "metadata": {
        "colab": {
          "base_uri": "https://localhost:8080/"
        },
        "id": "dDRKT2Fe-pvh",
        "outputId": "f2cbaa07-de3a-48f3-eef7-051c654c6315"
      },
      "execution_count": 283,
      "outputs": [
        {
          "output_type": "stream",
          "name": "stdout",
          "text": [
            "Accuracy(Testing Data) : \n",
            "0.7857142857142857\n",
            "CPU times: user 302 ms, sys: 46.4 ms, total: 349 ms\n",
            "Wall time: 354 ms\n"
          ]
        }
      ]
    },
    {
      "cell_type": "markdown",
      "source": [
        "### Finding the Correlation between the feauters"
      ],
      "metadata": {
        "id": "sZC8Omj-Brd-"
      }
    },
    {
      "cell_type": "code",
      "source": [
        "corrmat = x_train_unique.corr()\n",
        "corrmat"
      ],
      "metadata": {
        "colab": {
          "base_uri": "https://localhost:8080/",
          "height": 300
        },
        "id": "cKFjGFAl-5A5",
        "outputId": "12584efd-056e-477c-dbe1-4fc7171a3fca"
      },
      "execution_count": 284,
      "outputs": [
        {
          "output_type": "execute_result",
          "data": {
            "text/html": [
              "<div>\n",
              "<style scoped>\n",
              "    .dataframe tbody tr th:only-of-type {\n",
              "        vertical-align: middle;\n",
              "    }\n",
              "\n",
              "    .dataframe tbody tr th {\n",
              "        vertical-align: top;\n",
              "    }\n",
              "\n",
              "    .dataframe thead th {\n",
              "        text-align: right;\n",
              "    }\n",
              "</style>\n",
              "<table border=\"1\" class=\"dataframe\">\n",
              "  <thead>\n",
              "    <tr style=\"text-align: right;\">\n",
              "      <th></th>\n",
              "      <th>0</th>\n",
              "      <th>1</th>\n",
              "      <th>2</th>\n",
              "      <th>3</th>\n",
              "      <th>4</th>\n",
              "      <th>5</th>\n",
              "      <th>6</th>\n",
              "      <th>7</th>\n",
              "    </tr>\n",
              "  </thead>\n",
              "  <tbody>\n",
              "    <tr>\n",
              "      <th>0</th>\n",
              "      <td>1.000000</td>\n",
              "      <td>0.127642</td>\n",
              "      <td>0.141417</td>\n",
              "      <td>-0.084695</td>\n",
              "      <td>-0.080762</td>\n",
              "      <td>0.003036</td>\n",
              "      <td>-0.047203</td>\n",
              "      <td>0.539582</td>\n",
              "    </tr>\n",
              "    <tr>\n",
              "      <th>1</th>\n",
              "      <td>0.127642</td>\n",
              "      <td>1.000000</td>\n",
              "      <td>0.147744</td>\n",
              "      <td>0.057374</td>\n",
              "      <td>0.326961</td>\n",
              "      <td>0.234836</td>\n",
              "      <td>0.118450</td>\n",
              "      <td>0.278075</td>\n",
              "    </tr>\n",
              "    <tr>\n",
              "      <th>2</th>\n",
              "      <td>0.141417</td>\n",
              "      <td>0.147744</td>\n",
              "      <td>1.000000</td>\n",
              "      <td>0.214119</td>\n",
              "      <td>0.081911</td>\n",
              "      <td>0.264209</td>\n",
              "      <td>0.052385</td>\n",
              "      <td>0.229556</td>\n",
              "    </tr>\n",
              "    <tr>\n",
              "      <th>3</th>\n",
              "      <td>-0.084695</td>\n",
              "      <td>0.057374</td>\n",
              "      <td>0.214119</td>\n",
              "      <td>1.000000</td>\n",
              "      <td>0.426754</td>\n",
              "      <td>0.405780</td>\n",
              "      <td>0.194594</td>\n",
              "      <td>-0.156347</td>\n",
              "    </tr>\n",
              "    <tr>\n",
              "      <th>4</th>\n",
              "      <td>-0.080762</td>\n",
              "      <td>0.326961</td>\n",
              "      <td>0.081911</td>\n",
              "      <td>0.426754</td>\n",
              "      <td>1.000000</td>\n",
              "      <td>0.192086</td>\n",
              "      <td>0.189132</td>\n",
              "      <td>-0.063597</td>\n",
              "    </tr>\n",
              "    <tr>\n",
              "      <th>5</th>\n",
              "      <td>0.003036</td>\n",
              "      <td>0.234836</td>\n",
              "      <td>0.264209</td>\n",
              "      <td>0.405780</td>\n",
              "      <td>0.192086</td>\n",
              "      <td>1.000000</td>\n",
              "      <td>0.145073</td>\n",
              "      <td>0.009823</td>\n",
              "    </tr>\n",
              "    <tr>\n",
              "      <th>6</th>\n",
              "      <td>-0.047203</td>\n",
              "      <td>0.118450</td>\n",
              "      <td>0.052385</td>\n",
              "      <td>0.194594</td>\n",
              "      <td>0.189132</td>\n",
              "      <td>0.145073</td>\n",
              "      <td>1.000000</td>\n",
              "      <td>0.027692</td>\n",
              "    </tr>\n",
              "    <tr>\n",
              "      <th>7</th>\n",
              "      <td>0.539582</td>\n",
              "      <td>0.278075</td>\n",
              "      <td>0.229556</td>\n",
              "      <td>-0.156347</td>\n",
              "      <td>-0.063597</td>\n",
              "      <td>0.009823</td>\n",
              "      <td>0.027692</td>\n",
              "      <td>1.000000</td>\n",
              "    </tr>\n",
              "  </tbody>\n",
              "</table>\n",
              "</div>"
            ],
            "text/plain": [
              "          0         1         2  ...         5         6         7\n",
              "0  1.000000  0.127642  0.141417  ...  0.003036 -0.047203  0.539582\n",
              "1  0.127642  1.000000  0.147744  ...  0.234836  0.118450  0.278075\n",
              "2  0.141417  0.147744  1.000000  ...  0.264209  0.052385  0.229556\n",
              "3 -0.084695  0.057374  0.214119  ...  0.405780  0.194594 -0.156347\n",
              "4 -0.080762  0.326961  0.081911  ...  0.192086  0.189132 -0.063597\n",
              "5  0.003036  0.234836  0.264209  ...  1.000000  0.145073  0.009823\n",
              "6 -0.047203  0.118450  0.052385  ...  0.145073  1.000000  0.027692\n",
              "7  0.539582  0.278075  0.229556  ...  0.009823  0.027692  1.000000\n",
              "\n",
              "[8 rows x 8 columns]"
            ]
          },
          "metadata": {},
          "execution_count": 284
        }
      ]
    },
    {
      "cell_type": "code",
      "source": [
        "plt.figure(figsize = (12,8))\n",
        "sns.heatmap(corrmat)"
      ],
      "metadata": {
        "colab": {
          "base_uri": "https://localhost:8080/",
          "height": 504
        },
        "id": "RE1KYfxV-5HY",
        "outputId": "72847b3d-9484-46eb-cafd-f8130564da15"
      },
      "execution_count": 285,
      "outputs": [
        {
          "output_type": "execute_result",
          "data": {
            "text/plain": [
              "<matplotlib.axes._subplots.AxesSubplot at 0x7fe4ae90bb50>"
            ]
          },
          "metadata": {},
          "execution_count": 285
        },
        {
          "output_type": "display_data",
          "data": {
            "image/png": "[encoded data removed]",
            "text/plain": [
              "<Figure size 864x576 with 2 Axes>"
            ]
          },
          "metadata": {
            "needs_background": "light"
          }
        }
      ]
    },
    {
      "cell_type": "code",
      "source": [
        "def getCorr(data,threshold):\n",
        "  corr_col = set()\n",
        "  corrmat = data.corr()\n",
        "  for i in range(len(corrmat.columns)):\n",
        "    for j in range(i):\n",
        "      if abs(corrmat.iloc[i,j]) > threshold :\n",
        "        colname = corrmat.columns[i]\n",
        "        corr_col.add(colname)\n",
        "  return corr_col\n"
      ],
      "metadata": {
        "id": "_h2cEz99-5M2"
      },
      "execution_count": 286,
      "outputs": []
    },
    {
      "cell_type": "code",
      "source": [
        "corr_features = getCorr(x_train_unique,0.85)\n",
        "# corr_features\n",
        "len(corr_features)"
      ],
      "metadata": {
        "colab": {
          "base_uri": "https://localhost:8080/"
        },
        "id": "1OZ_6Vj5DggK",
        "outputId": "efbdd4bb-066d-47c7-c907-a234ab5c6cbd"
      },
      "execution_count": 287,
      "outputs": [
        {
          "output_type": "execute_result",
          "data": {
            "text/plain": [
              "0"
            ]
          },
          "metadata": {},
          "execution_count": 287
        }
      ]
    },
    {
      "cell_type": "markdown",
      "source": [
        "### Feature Grouping and stacking"
      ],
      "metadata": {
        "id": "Ztbrtu-iFzKs"
      }
    },
    {
      "cell_type": "code",
      "source": [
        "corrmat"
      ],
      "metadata": {
        "colab": {
          "base_uri": "https://localhost:8080/",
          "height": 300
        },
        "id": "IVO1u7vpDglj",
        "outputId": "ef4565f7-bc96-4d1d-fb11-d0b9f4c98164"
      },
      "execution_count": 288,
      "outputs": [
        {
          "output_type": "execute_result",
          "data": {
            "text/html": [
              "<div>\n",
              "<style scoped>\n",
              "    .dataframe tbody tr th:only-of-type {\n",
              "        vertical-align: middle;\n",
              "    }\n",
              "\n",
              "    .dataframe tbody tr th {\n",
              "        vertical-align: top;\n",
              "    }\n",
              "\n",
              "    .dataframe thead th {\n",
              "        text-align: right;\n",
              "    }\n",
              "</style>\n",
              "<table border=\"1\" class=\"dataframe\">\n",
              "  <thead>\n",
              "    <tr style=\"text-align: right;\">\n",
              "      <th></th>\n",
              "      <th>0</th>\n",
              "      <th>1</th>\n",
              "      <th>2</th>\n",
              "      <th>3</th>\n",
              "      <th>4</th>\n",
              "      <th>5</th>\n",
              "      <th>6</th>\n",
              "      <th>7</th>\n",
              "    </tr>\n",
              "  </thead>\n",
              "  <tbody>\n",
              "    <tr>\n",
              "      <th>0</th>\n",
              "      <td>1.000000</td>\n",
              "      <td>0.127642</td>\n",
              "      <td>0.141417</td>\n",
              "      <td>-0.084695</td>\n",
              "      <td>-0.080762</td>\n",
              "      <td>0.003036</td>\n",
              "      <td>-0.047203</td>\n",
              "      <td>0.539582</td>\n",
              "    </tr>\n",
              "    <tr>\n",
              "      <th>1</th>\n",
              "      <td>0.127642</td>\n",
              "      <td>1.000000</td>\n",
              "      <td>0.147744</td>\n",
              "      <td>0.057374</td>\n",
              "      <td>0.326961</td>\n",
              "      <td>0.234836</td>\n",
              "      <td>0.118450</td>\n",
              "      <td>0.278075</td>\n",
              "    </tr>\n",
              "    <tr>\n",
              "      <th>2</th>\n",
              "      <td>0.141417</td>\n",
              "      <td>0.147744</td>\n",
              "      <td>1.000000</td>\n",
              "      <td>0.214119</td>\n",
              "      <td>0.081911</td>\n",
              "      <td>0.264209</td>\n",
              "      <td>0.052385</td>\n",
              "      <td>0.229556</td>\n",
              "    </tr>\n",
              "    <tr>\n",
              "      <th>3</th>\n",
              "      <td>-0.084695</td>\n",
              "      <td>0.057374</td>\n",
              "      <td>0.214119</td>\n",
              "      <td>1.000000</td>\n",
              "      <td>0.426754</td>\n",
              "      <td>0.405780</td>\n",
              "      <td>0.194594</td>\n",
              "      <td>-0.156347</td>\n",
              "    </tr>\n",
              "    <tr>\n",
              "      <th>4</th>\n",
              "      <td>-0.080762</td>\n",
              "      <td>0.326961</td>\n",
              "      <td>0.081911</td>\n",
              "      <td>0.426754</td>\n",
              "      <td>1.000000</td>\n",
              "      <td>0.192086</td>\n",
              "      <td>0.189132</td>\n",
              "      <td>-0.063597</td>\n",
              "    </tr>\n",
              "    <tr>\n",
              "      <th>5</th>\n",
              "      <td>0.003036</td>\n",
              "      <td>0.234836</td>\n",
              "      <td>0.264209</td>\n",
              "      <td>0.405780</td>\n",
              "      <td>0.192086</td>\n",
              "      <td>1.000000</td>\n",
              "      <td>0.145073</td>\n",
              "      <td>0.009823</td>\n",
              "    </tr>\n",
              "    <tr>\n",
              "      <th>6</th>\n",
              "      <td>-0.047203</td>\n",
              "      <td>0.118450</td>\n",
              "      <td>0.052385</td>\n",
              "      <td>0.194594</td>\n",
              "      <td>0.189132</td>\n",
              "      <td>0.145073</td>\n",
              "      <td>1.000000</td>\n",
              "      <td>0.027692</td>\n",
              "    </tr>\n",
              "    <tr>\n",
              "      <th>7</th>\n",
              "      <td>0.539582</td>\n",
              "      <td>0.278075</td>\n",
              "      <td>0.229556</td>\n",
              "      <td>-0.156347</td>\n",
              "      <td>-0.063597</td>\n",
              "      <td>0.009823</td>\n",
              "      <td>0.027692</td>\n",
              "      <td>1.000000</td>\n",
              "    </tr>\n",
              "  </tbody>\n",
              "</table>\n",
              "</div>"
            ],
            "text/plain": [
              "          0         1         2  ...         5         6         7\n",
              "0  1.000000  0.127642  0.141417  ...  0.003036 -0.047203  0.539582\n",
              "1  0.127642  1.000000  0.147744  ...  0.234836  0.118450  0.278075\n",
              "2  0.141417  0.147744  1.000000  ...  0.264209  0.052385  0.229556\n",
              "3 -0.084695  0.057374  0.214119  ...  0.405780  0.194594 -0.156347\n",
              "4 -0.080762  0.326961  0.081911  ...  0.192086  0.189132 -0.063597\n",
              "5  0.003036  0.234836  0.264209  ...  1.000000  0.145073  0.009823\n",
              "6 -0.047203  0.118450  0.052385  ...  0.145073  1.000000  0.027692\n",
              "7  0.539582  0.278075  0.229556  ...  0.009823  0.027692  1.000000\n",
              "\n",
              "[8 rows x 8 columns]"
            ]
          },
          "metadata": {},
          "execution_count": 288
        }
      ]
    },
    {
      "cell_type": "code",
      "source": [
        "corrdata = corrmat.abs().stack()\n",
        "corrdata"
      ],
      "metadata": {
        "colab": {
          "base_uri": "https://localhost:8080/"
        },
        "id": "vVtzFipkDgps",
        "outputId": "6612d591-d97e-496a-b521-7266c00d1477"
      },
      "execution_count": 289,
      "outputs": [
        {
          "output_type": "execute_result",
          "data": {
            "text/plain": [
              "0  0    1.000000\n",
              "   1    0.127642\n",
              "   2    0.141417\n",
              "   3    0.084695\n",
              "   4    0.080762\n",
              "          ...   \n",
              "7  3    0.156347\n",
              "   4    0.063597\n",
              "   5    0.009823\n",
              "   6    0.027692\n",
              "   7    1.000000\n",
              "Length: 64, dtype: float64"
            ]
          },
          "metadata": {},
          "execution_count": 289
        }
      ]
    },
    {
      "cell_type": "code",
      "source": [
        "corrdata = corrdata.sort_values(ascending = False)\n",
        "corrdata"
      ],
      "metadata": {
        "colab": {
          "base_uri": "https://localhost:8080/"
        },
        "id": "hgA2Za6_Dgtc",
        "outputId": "909b01cf-bbc1-4149-958b-d4008d9d0e29"
      },
      "execution_count": 290,
      "outputs": [
        {
          "output_type": "execute_result",
          "data": {
            "text/plain": [
              "7  7    1.000000\n",
              "6  6    1.000000\n",
              "1  1    1.000000\n",
              "2  2    1.000000\n",
              "3  3    1.000000\n",
              "          ...   \n",
              "6  7    0.027692\n",
              "7  5    0.009823\n",
              "5  7    0.009823\n",
              "0  5    0.003036\n",
              "5  0    0.003036\n",
              "Length: 64, dtype: float64"
            ]
          },
          "metadata": {},
          "execution_count": 290
        }
      ]
    },
    {
      "cell_type": "code",
      "source": [
        "corrdata = corrdata[corrdata > 0.4]\n",
        "corrdata = corrdata[corrdata < 1]\n",
        "corrdata"
      ],
      "metadata": {
        "colab": {
          "base_uri": "https://localhost:8080/"
        },
        "id": "jSVQkRd3DgxW",
        "outputId": "39c264fe-58e9-405c-9903-8bf268d58928"
      },
      "execution_count": 291,
      "outputs": [
        {
          "output_type": "execute_result",
          "data": {
            "text/plain": [
              "0  7    0.539582\n",
              "7  0    0.539582\n",
              "4  3    0.426754\n",
              "3  4    0.426754\n",
              "5  3    0.405780\n",
              "3  5    0.405780\n",
              "dtype: float64"
            ]
          },
          "metadata": {},
          "execution_count": 291
        }
      ]
    },
    {
      "cell_type": "markdown",
      "source": [
        "### Using Tree based classifier"
      ],
      "metadata": {
        "id": "17B88hYMQ57y"
      }
    },
    {
      "cell_type": "code",
      "source": [
        "rf = RandomForestClassifier(n_estimators=100,random_state=0)\n",
        "rf.fit(x_train_unique,y_train)"
      ],
      "metadata": {
        "id": "NxJYc4h-Dg04",
        "colab": {
          "base_uri": "https://localhost:8080/"
        },
        "outputId": "01c02a2d-ef9f-405b-8a1c-ab9750a6bd61"
      },
      "execution_count": 292,
      "outputs": [
        {
          "output_type": "execute_result",
          "data": {
            "text/plain": [
              "RandomForestClassifier(random_state=0)"
            ]
          },
          "metadata": {},
          "execution_count": 292
        }
      ]
    },
    {
      "cell_type": "code",
      "source": [
        "features = x_train_unique.columns\n",
        "features"
      ],
      "metadata": {
        "colab": {
          "base_uri": "https://localhost:8080/"
        },
        "id": "97zPJ1GDQTPh",
        "outputId": "ea82eb8a-aeaf-4c77-d3b1-2352c4114372"
      },
      "execution_count": 293,
      "outputs": [
        {
          "output_type": "execute_result",
          "data": {
            "text/plain": [
              "Int64Index([0, 1, 2, 3, 4, 5, 6, 7], dtype='int64')"
            ]
          },
          "metadata": {},
          "execution_count": 293
        }
      ]
    },
    {
      "cell_type": "code",
      "source": [
        "importance = pd.concat([pd.Series(features),pd.Series(rf.feature_importances_)],axis = 1)\n",
        "importance.columns = ['features','importance']\n",
        "importance.sort_values(by = 'importance',ascending = False,inplace = True)\n",
        "importance"
      ],
      "metadata": {
        "colab": {
          "base_uri": "https://localhost:8080/",
          "height": 300
        },
        "id": "TX2rbqDgQTUf",
        "outputId": "c516dfcb-d6f7-4c12-f7d1-8034ea9fd9bc"
      },
      "execution_count": 294,
      "outputs": [
        {
          "output_type": "execute_result",
          "data": {
            "text/html": [
              "<div>\n",
              "<style scoped>\n",
              "    .dataframe tbody tr th:only-of-type {\n",
              "        vertical-align: middle;\n",
              "    }\n",
              "\n",
              "    .dataframe tbody tr th {\n",
              "        vertical-align: top;\n",
              "    }\n",
              "\n",
              "    .dataframe thead th {\n",
              "        text-align: right;\n",
              "    }\n",
              "</style>\n",
              "<table border=\"1\" class=\"dataframe\">\n",
              "  <thead>\n",
              "    <tr style=\"text-align: right;\">\n",
              "      <th></th>\n",
              "      <th>features</th>\n",
              "      <th>importance</th>\n",
              "    </tr>\n",
              "  </thead>\n",
              "  <tbody>\n",
              "    <tr>\n",
              "      <th>1</th>\n",
              "      <td>1</td>\n",
              "      <td>0.242236</td>\n",
              "    </tr>\n",
              "    <tr>\n",
              "      <th>5</th>\n",
              "      <td>5</td>\n",
              "      <td>0.166750</td>\n",
              "    </tr>\n",
              "    <tr>\n",
              "      <th>7</th>\n",
              "      <td>7</td>\n",
              "      <td>0.146922</td>\n",
              "    </tr>\n",
              "    <tr>\n",
              "      <th>6</th>\n",
              "      <td>6</td>\n",
              "      <td>0.129385</td>\n",
              "    </tr>\n",
              "    <tr>\n",
              "      <th>2</th>\n",
              "      <td>2</td>\n",
              "      <td>0.090845</td>\n",
              "    </tr>\n",
              "    <tr>\n",
              "      <th>0</th>\n",
              "      <td>0</td>\n",
              "      <td>0.080614</td>\n",
              "    </tr>\n",
              "    <tr>\n",
              "      <th>4</th>\n",
              "      <td>4</td>\n",
              "      <td>0.073719</td>\n",
              "    </tr>\n",
              "    <tr>\n",
              "      <th>3</th>\n",
              "      <td>3</td>\n",
              "      <td>0.069530</td>\n",
              "    </tr>\n",
              "  </tbody>\n",
              "</table>\n",
              "</div>"
            ],
            "text/plain": [
              "   features  importance\n",
              "1         1    0.242236\n",
              "5         5    0.166750\n",
              "7         7    0.146922\n",
              "6         6    0.129385\n",
              "2         2    0.090845\n",
              "0         0    0.080614\n",
              "4         4    0.073719\n",
              "3         3    0.069530"
            ]
          },
          "metadata": {},
          "execution_count": 294
        }
      ]
    },
    {
      "cell_type": "code",
      "source": [
        "x"
      ],
      "metadata": {
        "colab": {
          "base_uri": "https://localhost:8080/",
          "height": 424
        },
        "id": "LoSh9j88QTYl",
        "outputId": "ff4b65a7-d4a8-4ebb-dede-b4aad6b33279"
      },
      "execution_count": 295,
      "outputs": [
        {
          "output_type": "execute_result",
          "data": {
            "text/html": [
              "<div>\n",
              "<style scoped>\n",
              "    .dataframe tbody tr th:only-of-type {\n",
              "        vertical-align: middle;\n",
              "    }\n",
              "\n",
              "    .dataframe tbody tr th {\n",
              "        vertical-align: top;\n",
              "    }\n",
              "\n",
              "    .dataframe thead th {\n",
              "        text-align: right;\n",
              "    }\n",
              "</style>\n",
              "<table border=\"1\" class=\"dataframe\">\n",
              "  <thead>\n",
              "    <tr style=\"text-align: right;\">\n",
              "      <th></th>\n",
              "      <th>Pregnancies</th>\n",
              "      <th>Glucose</th>\n",
              "      <th>BloodPressure</th>\n",
              "      <th>SkinThickness</th>\n",
              "      <th>Insulin</th>\n",
              "      <th>BMI</th>\n",
              "      <th>DiabetesPedigreeFunction</th>\n",
              "      <th>Age</th>\n",
              "      <th>HairColor</th>\n",
              "      <th>Adult</th>\n",
              "      <th>Country</th>\n",
              "      <th>Age_1</th>\n",
              "    </tr>\n",
              "  </thead>\n",
              "  <tbody>\n",
              "    <tr>\n",
              "      <th>0</th>\n",
              "      <td>6</td>\n",
              "      <td>148</td>\n",
              "      <td>72</td>\n",
              "      <td>35</td>\n",
              "      <td>0</td>\n",
              "      <td>33.6</td>\n",
              "      <td>0.627</td>\n",
              "      <td>50</td>\n",
              "      <td>0</td>\n",
              "      <td>1</td>\n",
              "      <td>0</td>\n",
              "      <td>50</td>\n",
              "    </tr>\n",
              "    <tr>\n",
              "      <th>1</th>\n",
              "      <td>1</td>\n",
              "      <td>85</td>\n",
              "      <td>66</td>\n",
              "      <td>29</td>\n",
              "      <td>0</td>\n",
              "      <td>26.6</td>\n",
              "      <td>0.351</td>\n",
              "      <td>31</td>\n",
              "      <td>0</td>\n",
              "      <td>1</td>\n",
              "      <td>0</td>\n",
              "      <td>31</td>\n",
              "    </tr>\n",
              "    <tr>\n",
              "      <th>2</th>\n",
              "      <td>8</td>\n",
              "      <td>183</td>\n",
              "      <td>64</td>\n",
              "      <td>0</td>\n",
              "      <td>0</td>\n",
              "      <td>23.3</td>\n",
              "      <td>0.672</td>\n",
              "      <td>32</td>\n",
              "      <td>0</td>\n",
              "      <td>1</td>\n",
              "      <td>0</td>\n",
              "      <td>32</td>\n",
              "    </tr>\n",
              "    <tr>\n",
              "      <th>3</th>\n",
              "      <td>1</td>\n",
              "      <td>89</td>\n",
              "      <td>66</td>\n",
              "      <td>23</td>\n",
              "      <td>94</td>\n",
              "      <td>28.1</td>\n",
              "      <td>0.167</td>\n",
              "      <td>21</td>\n",
              "      <td>0</td>\n",
              "      <td>1</td>\n",
              "      <td>0</td>\n",
              "      <td>21</td>\n",
              "    </tr>\n",
              "    <tr>\n",
              "      <th>4</th>\n",
              "      <td>0</td>\n",
              "      <td>137</td>\n",
              "      <td>40</td>\n",
              "      <td>35</td>\n",
              "      <td>168</td>\n",
              "      <td>43.1</td>\n",
              "      <td>2.288</td>\n",
              "      <td>33</td>\n",
              "      <td>0</td>\n",
              "      <td>1</td>\n",
              "      <td>0</td>\n",
              "      <td>33</td>\n",
              "    </tr>\n",
              "    <tr>\n",
              "      <th>...</th>\n",
              "      <td>...</td>\n",
              "      <td>...</td>\n",
              "      <td>...</td>\n",
              "      <td>...</td>\n",
              "      <td>...</td>\n",
              "      <td>...</td>\n",
              "      <td>...</td>\n",
              "      <td>...</td>\n",
              "      <td>...</td>\n",
              "      <td>...</td>\n",
              "      <td>...</td>\n",
              "      <td>...</td>\n",
              "    </tr>\n",
              "    <tr>\n",
              "      <th>763</th>\n",
              "      <td>10</td>\n",
              "      <td>101</td>\n",
              "      <td>76</td>\n",
              "      <td>48</td>\n",
              "      <td>180</td>\n",
              "      <td>32.9</td>\n",
              "      <td>0.171</td>\n",
              "      <td>63</td>\n",
              "      <td>1</td>\n",
              "      <td>1</td>\n",
              "      <td>0</td>\n",
              "      <td>63</td>\n",
              "    </tr>\n",
              "    <tr>\n",
              "      <th>764</th>\n",
              "      <td>2</td>\n",
              "      <td>122</td>\n",
              "      <td>70</td>\n",
              "      <td>27</td>\n",
              "      <td>0</td>\n",
              "      <td>36.8</td>\n",
              "      <td>0.340</td>\n",
              "      <td>27</td>\n",
              "      <td>1</td>\n",
              "      <td>1</td>\n",
              "      <td>0</td>\n",
              "      <td>27</td>\n",
              "    </tr>\n",
              "    <tr>\n",
              "      <th>765</th>\n",
              "      <td>5</td>\n",
              "      <td>121</td>\n",
              "      <td>72</td>\n",
              "      <td>23</td>\n",
              "      <td>112</td>\n",
              "      <td>26.2</td>\n",
              "      <td>0.245</td>\n",
              "      <td>30</td>\n",
              "      <td>1</td>\n",
              "      <td>1</td>\n",
              "      <td>0</td>\n",
              "      <td>30</td>\n",
              "    </tr>\n",
              "    <tr>\n",
              "      <th>766</th>\n",
              "      <td>1</td>\n",
              "      <td>126</td>\n",
              "      <td>60</td>\n",
              "      <td>0</td>\n",
              "      <td>0</td>\n",
              "      <td>30.1</td>\n",
              "      <td>0.349</td>\n",
              "      <td>47</td>\n",
              "      <td>1</td>\n",
              "      <td>1</td>\n",
              "      <td>0</td>\n",
              "      <td>47</td>\n",
              "    </tr>\n",
              "    <tr>\n",
              "      <th>767</th>\n",
              "      <td>1</td>\n",
              "      <td>93</td>\n",
              "      <td>70</td>\n",
              "      <td>31</td>\n",
              "      <td>0</td>\n",
              "      <td>30.4</td>\n",
              "      <td>0.315</td>\n",
              "      <td>23</td>\n",
              "      <td>1</td>\n",
              "      <td>1</td>\n",
              "      <td>0</td>\n",
              "      <td>23</td>\n",
              "    </tr>\n",
              "  </tbody>\n",
              "</table>\n",
              "<p>768 rows × 12 columns</p>\n",
              "</div>"
            ],
            "text/plain": [
              "     Pregnancies  Glucose  BloodPressure  ...  Adult  Country  Age_1\n",
              "0              6      148             72  ...      1        0     50\n",
              "1              1       85             66  ...      1        0     31\n",
              "2              8      183             64  ...      1        0     32\n",
              "3              1       89             66  ...      1        0     21\n",
              "4              0      137             40  ...      1        0     33\n",
              "..           ...      ...            ...  ...    ...      ...    ...\n",
              "763           10      101             76  ...      1        0     63\n",
              "764            2      122             70  ...      1        0     27\n",
              "765            5      121             72  ...      1        0     30\n",
              "766            1      126             60  ...      1        0     47\n",
              "767            1       93             70  ...      1        0     23\n",
              "\n",
              "[768 rows x 12 columns]"
            ]
          },
          "metadata": {},
          "execution_count": 295
        }
      ]
    },
    {
      "cell_type": "code",
      "source": [
        "x_tr"
      ],
      "metadata": {
        "id": "iAKMeh-f-5Qo",
        "colab": {
          "base_uri": "https://localhost:8080/",
          "height": 424
        },
        "outputId": "a30ce428-3ec1-428c-8923-d11638a9c913"
      },
      "execution_count": 296,
      "outputs": [
        {
          "output_type": "execute_result",
          "data": {
            "text/html": [
              "<div>\n",
              "<style scoped>\n",
              "    .dataframe tbody tr th:only-of-type {\n",
              "        vertical-align: middle;\n",
              "    }\n",
              "\n",
              "    .dataframe tbody tr th {\n",
              "        vertical-align: top;\n",
              "    }\n",
              "\n",
              "    .dataframe thead th {\n",
              "        text-align: right;\n",
              "    }\n",
              "</style>\n",
              "<table border=\"1\" class=\"dataframe\">\n",
              "  <thead>\n",
              "    <tr style=\"text-align: right;\">\n",
              "      <th></th>\n",
              "      <th>Pregnancies</th>\n",
              "      <th>Glucose</th>\n",
              "      <th>BloodPressure</th>\n",
              "      <th>SkinThickness</th>\n",
              "      <th>Insulin</th>\n",
              "      <th>BMI</th>\n",
              "      <th>DiabetesPedigreeFunction</th>\n",
              "      <th>Age</th>\n",
              "      <th>HairColor</th>\n",
              "      <th>Adult</th>\n",
              "      <th>Country</th>\n",
              "      <th>Age_1</th>\n",
              "    </tr>\n",
              "  </thead>\n",
              "  <tbody>\n",
              "    <tr>\n",
              "      <th>603</th>\n",
              "      <td>7</td>\n",
              "      <td>150</td>\n",
              "      <td>78</td>\n",
              "      <td>29</td>\n",
              "      <td>126</td>\n",
              "      <td>35.2</td>\n",
              "      <td>0.692</td>\n",
              "      <td>54</td>\n",
              "      <td>0</td>\n",
              "      <td>1</td>\n",
              "      <td>0</td>\n",
              "      <td>54</td>\n",
              "    </tr>\n",
              "    <tr>\n",
              "      <th>118</th>\n",
              "      <td>4</td>\n",
              "      <td>97</td>\n",
              "      <td>60</td>\n",
              "      <td>23</td>\n",
              "      <td>0</td>\n",
              "      <td>28.2</td>\n",
              "      <td>0.443</td>\n",
              "      <td>22</td>\n",
              "      <td>0</td>\n",
              "      <td>1</td>\n",
              "      <td>0</td>\n",
              "      <td>22</td>\n",
              "    </tr>\n",
              "    <tr>\n",
              "      <th>247</th>\n",
              "      <td>0</td>\n",
              "      <td>165</td>\n",
              "      <td>90</td>\n",
              "      <td>33</td>\n",
              "      <td>680</td>\n",
              "      <td>52.3</td>\n",
              "      <td>0.427</td>\n",
              "      <td>23</td>\n",
              "      <td>0</td>\n",
              "      <td>1</td>\n",
              "      <td>0</td>\n",
              "      <td>23</td>\n",
              "    </tr>\n",
              "    <tr>\n",
              "      <th>157</th>\n",
              "      <td>1</td>\n",
              "      <td>109</td>\n",
              "      <td>56</td>\n",
              "      <td>21</td>\n",
              "      <td>135</td>\n",
              "      <td>25.2</td>\n",
              "      <td>0.833</td>\n",
              "      <td>23</td>\n",
              "      <td>0</td>\n",
              "      <td>1</td>\n",
              "      <td>0</td>\n",
              "      <td>23</td>\n",
              "    </tr>\n",
              "    <tr>\n",
              "      <th>468</th>\n",
              "      <td>8</td>\n",
              "      <td>120</td>\n",
              "      <td>0</td>\n",
              "      <td>0</td>\n",
              "      <td>0</td>\n",
              "      <td>30.0</td>\n",
              "      <td>0.183</td>\n",
              "      <td>38</td>\n",
              "      <td>0</td>\n",
              "      <td>1</td>\n",
              "      <td>0</td>\n",
              "      <td>38</td>\n",
              "    </tr>\n",
              "    <tr>\n",
              "      <th>...</th>\n",
              "      <td>...</td>\n",
              "      <td>...</td>\n",
              "      <td>...</td>\n",
              "      <td>...</td>\n",
              "      <td>...</td>\n",
              "      <td>...</td>\n",
              "      <td>...</td>\n",
              "      <td>...</td>\n",
              "      <td>...</td>\n",
              "      <td>...</td>\n",
              "      <td>...</td>\n",
              "      <td>...</td>\n",
              "    </tr>\n",
              "    <tr>\n",
              "      <th>763</th>\n",
              "      <td>10</td>\n",
              "      <td>101</td>\n",
              "      <td>76</td>\n",
              "      <td>48</td>\n",
              "      <td>180</td>\n",
              "      <td>32.9</td>\n",
              "      <td>0.171</td>\n",
              "      <td>63</td>\n",
              "      <td>1</td>\n",
              "      <td>1</td>\n",
              "      <td>0</td>\n",
              "      <td>63</td>\n",
              "    </tr>\n",
              "    <tr>\n",
              "      <th>192</th>\n",
              "      <td>7</td>\n",
              "      <td>159</td>\n",
              "      <td>66</td>\n",
              "      <td>0</td>\n",
              "      <td>0</td>\n",
              "      <td>30.4</td>\n",
              "      <td>0.383</td>\n",
              "      <td>36</td>\n",
              "      <td>0</td>\n",
              "      <td>1</td>\n",
              "      <td>0</td>\n",
              "      <td>36</td>\n",
              "    </tr>\n",
              "    <tr>\n",
              "      <th>629</th>\n",
              "      <td>4</td>\n",
              "      <td>94</td>\n",
              "      <td>65</td>\n",
              "      <td>22</td>\n",
              "      <td>0</td>\n",
              "      <td>24.7</td>\n",
              "      <td>0.148</td>\n",
              "      <td>21</td>\n",
              "      <td>0</td>\n",
              "      <td>1</td>\n",
              "      <td>0</td>\n",
              "      <td>21</td>\n",
              "    </tr>\n",
              "    <tr>\n",
              "      <th>559</th>\n",
              "      <td>11</td>\n",
              "      <td>85</td>\n",
              "      <td>74</td>\n",
              "      <td>0</td>\n",
              "      <td>0</td>\n",
              "      <td>30.1</td>\n",
              "      <td>0.300</td>\n",
              "      <td>35</td>\n",
              "      <td>0</td>\n",
              "      <td>1</td>\n",
              "      <td>0</td>\n",
              "      <td>35</td>\n",
              "    </tr>\n",
              "    <tr>\n",
              "      <th>684</th>\n",
              "      <td>5</td>\n",
              "      <td>136</td>\n",
              "      <td>82</td>\n",
              "      <td>0</td>\n",
              "      <td>0</td>\n",
              "      <td>0.0</td>\n",
              "      <td>0.640</td>\n",
              "      <td>69</td>\n",
              "      <td>0</td>\n",
              "      <td>1</td>\n",
              "      <td>0</td>\n",
              "      <td>69</td>\n",
              "    </tr>\n",
              "  </tbody>\n",
              "</table>\n",
              "<p>614 rows × 12 columns</p>\n",
              "</div>"
            ],
            "text/plain": [
              "     Pregnancies  Glucose  BloodPressure  ...  Adult  Country  Age_1\n",
              "603            7      150             78  ...      1        0     54\n",
              "118            4       97             60  ...      1        0     22\n",
              "247            0      165             90  ...      1        0     23\n",
              "157            1      109             56  ...      1        0     23\n",
              "468            8      120              0  ...      1        0     38\n",
              "..           ...      ...            ...  ...    ...      ...    ...\n",
              "763           10      101             76  ...      1        0     63\n",
              "192            7      159             66  ...      1        0     36\n",
              "629            4       94             65  ...      1        0     21\n",
              "559           11       85             74  ...      1        0     35\n",
              "684            5      136             82  ...      1        0     69\n",
              "\n",
              "[614 rows x 12 columns]"
            ]
          },
          "metadata": {},
          "execution_count": 296
        }
      ]
    },
    {
      "cell_type": "code",
      "source": [
        "train = x_train_unique.drop([0,5,2,6,7,4,3],axis = 1)\n",
        "test = x_test_unique.drop([0,5,2,6,7,4,3],axis = 1)"
      ],
      "metadata": {
        "id": "cbEdoT6lXghd"
      },
      "execution_count": 297,
      "outputs": []
    },
    {
      "cell_type": "code",
      "source": [
        "%%time\n",
        "randomForest(train,test,y_train,y_test)"
      ],
      "metadata": {
        "id": "pVf428gHXa4w",
        "outputId": "e64b4d0a-c8fb-4be3-beed-e3ca79223b93",
        "colab": {
          "base_uri": "https://localhost:8080/"
        }
      },
      "execution_count": 298,
      "outputs": [
        {
          "output_type": "stream",
          "name": "stdout",
          "text": [
            "Accuracy(Testing Data) : \n",
            "0.7077922077922078\n",
            "CPU times: user 276 ms, sys: 44.5 ms, total: 320 ms\n",
            "Wall time: 357 ms\n"
          ]
        }
      ]
    },
    {
      "cell_type": "code",
      "source": [
        "data['Outcome'].value_counts()"
      ],
      "metadata": {
        "id": "YUrOuHJ5Xa-P",
        "outputId": "722f86a8-69de-47ec-bd36-a085a9923648",
        "colab": {
          "base_uri": "https://localhost:8080/"
        }
      },
      "execution_count": 299,
      "outputs": [
        {
          "output_type": "execute_result",
          "data": {
            "text/plain": [
              "0    500\n",
              "1    268\n",
              "Name: Outcome, dtype: int64"
            ]
          },
          "metadata": {},
          "execution_count": 299
        }
      ]
    },
    {
      "cell_type": "code",
      "source": [
        "500/(768)*100"
      ],
      "metadata": {
        "id": "1AneSqcLZ6Gl",
        "outputId": "064adde7-4889-409a-da4d-53eb57e38bbf",
        "colab": {
          "base_uri": "https://localhost:8080/"
        }
      },
      "execution_count": 304,
      "outputs": [
        {
          "output_type": "execute_result",
          "data": {
            "text/plain": [
              "65.10416666666666"
            ]
          },
          "metadata": {},
          "execution_count": 304
        }
      ]
    },
    {
      "cell_type": "code",
      "source": [
        "x_train_unique.shape"
      ],
      "metadata": {
        "id": "Vz96vB-_bRJH",
        "outputId": "e108bfe5-075a-4c0a-d3bc-7900bd8fc7f7",
        "colab": {
          "base_uri": "https://localhost:8080/"
        }
      },
      "execution_count": 305,
      "outputs": [
        {
          "output_type": "execute_result",
          "data": {
            "text/plain": [
              "(614, 8)"
            ]
          },
          "metadata": {},
          "execution_count": 305
        }
      ]
    },
    {
      "cell_type": "markdown",
      "source": [
        "### For better accuracy using upsampling from SMOTEENN"
      ],
      "metadata": {
        "id": "LDyeQ1sedAm_"
      }
    },
    {
      "cell_type": "code",
      "source": [
        "from imblearn.combine import SMOTEENN\n",
        "sm=SMOTEENN()\n",
        "x_upsampled,y_upsampled=sm.fit_resample(x,y)\n",
        "xr_train,xr_test,yr_train,yr_test=train_test_split(x_upsampled,y_upsampled,test_size=0.2)\n",
        "xr_train.shape,xr_test.shape"
      ],
      "metadata": {
        "id": "DA4Ur7JgZ6Lz",
        "outputId": "a79b7cb0-41b2-4078-9ea2-56919cfc2eff",
        "colab": {
          "base_uri": "https://localhost:8080/"
        }
      },
      "execution_count": 306,
      "outputs": [
        {
          "output_type": "execute_result",
          "data": {
            "text/plain": [
              "((417, 12), (105, 12))"
            ]
          },
          "metadata": {},
          "execution_count": 306
        }
      ]
    },
    {
      "cell_type": "code",
      "source": [
        "%%time\n",
        "randomForest(xr_train,xr_test,yr_train,yr_test)"
      ],
      "metadata": {
        "id": "T8Y3FF6XXbZ4",
        "outputId": "865fd559-ffe1-40b2-8301-0fb678053b6c",
        "colab": {
          "base_uri": "https://localhost:8080/"
        }
      },
      "execution_count": 307,
      "outputs": [
        {
          "output_type": "stream",
          "name": "stdout",
          "text": [
            "Accuracy(Testing Data) : \n",
            "0.9714285714285714\n",
            "CPU times: user 272 ms, sys: 29.5 ms, total: 301 ms\n",
            "Wall time: 353 ms\n"
          ]
        }
      ]
    },
    {
      "cell_type": "code",
      "source": [
        ""
      ],
      "metadata": {
        "id": "T70UZiNybgS5"
      },
      "execution_count": 303,
      "outputs": []
    },
    {
      "cell_type": "code",
      "source": [
        ""
      ],
      "metadata": {
        "id": "KkiChc_RbgXx"
      },
      "execution_count": 303,
      "outputs": []
    },
    {
      "cell_type": "code",
      "source": [
        ""
      ],
      "metadata": {
        "id": "iB7cXAqdbgbp"
      },
      "execution_count": 303,
      "outputs": []
    }
  ]
}